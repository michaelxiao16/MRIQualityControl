{
 "cells": [
  {
   "cell_type": "markdown",
   "metadata": {},
   "source": [
    "### Install Dependencies"
   ]
  },
  {
   "cell_type": "code",
   "execution_count": 3,
   "metadata": {},
   "outputs": [
    {
     "name": "stdout",
     "output_type": "stream",
     "text": [
      "Requirements file created!\n"
     ]
    }
   ],
   "source": [
    "with open('requirements.txt', 'w') as file:\n",
    "    file.write('Keras>=2\\n')\n",
    "    file.write('numpy>=1.12.1\\n')\n",
    "    file.write('nilearn>=0.3.0\\n')\n",
    "    file.write('tables>=3.4.2\\n')\n",
    "    file.write('nibabel>=2.1.0\\n')\n",
    "    \n",
    "print('Requirements file created!')"
   ]
  },
  {
   "cell_type": "code",
   "execution_count": 4,
   "metadata": {},
   "outputs": [
    {
     "name": "stdout",
     "output_type": "stream",
     "text": [
      "Requirement already satisfied: Keras>=2 in /home/ec2-user/anaconda3/envs/tensorflow_p36/lib/python3.6/site-packages (from -r requirements.txt (line 1)) (2.2.4)\n",
      "Requirement already satisfied: numpy>=1.12.1 in /home/ec2-user/anaconda3/envs/tensorflow_p36/lib/python3.6/site-packages (from -r requirements.txt (line 2)) (1.16.4)\n",
      "Collecting nilearn>=0.3.0 (from -r requirements.txt (line 3))\n",
      "\u001b[?25l  Downloading https://files.pythonhosted.org/packages/6e/65/ba76e7cd544dafc28960e60b099d6f906a2096034c560158beaf2ff299bc/nilearn-0.5.2-py2.py3-none-any.whl (2.3MB)\n",
      "\u001b[K    100% |████████████████████████████████| 2.4MB 14.4MB/s ta 0:00:01\n",
      "\u001b[?25hRequirement already satisfied: tables>=3.4.2 in /home/ec2-user/anaconda3/envs/tensorflow_p36/lib/python3.6/site-packages (from -r requirements.txt (line 4)) (3.4.3)\n",
      "Collecting nibabel>=2.1.0 (from -r requirements.txt (line 5))\n",
      "\u001b[?25l  Downloading https://files.pythonhosted.org/packages/01/13/392132019093ddb7bc997f7f9843d406dc3302a27f01827d2fd028e03c50/nibabel-2.5.1-py3-none-any.whl (3.3MB)\n",
      "\u001b[K    100% |████████████████████████████████| 3.3MB 9.4MB/s eta 0:00:01\n",
      "\u001b[?25hRequirement already satisfied: pyyaml in /home/ec2-user/anaconda3/envs/tensorflow_p36/lib/python3.6/site-packages (from Keras>=2->-r requirements.txt (line 1)) (3.12)\n",
      "Requirement already satisfied: h5py in /home/ec2-user/anaconda3/envs/tensorflow_p36/lib/python3.6/site-packages (from Keras>=2->-r requirements.txt (line 1)) (2.8.0)\n",
      "Requirement already satisfied: six>=1.9.0 in /home/ec2-user/anaconda3/envs/tensorflow_p36/lib/python3.6/site-packages (from Keras>=2->-r requirements.txt (line 1)) (1.11.0)\n",
      "Requirement already satisfied: keras-preprocessing>=1.0.5 in /home/ec2-user/anaconda3/envs/tensorflow_p36/lib/python3.6/site-packages (from Keras>=2->-r requirements.txt (line 1)) (1.1.0)\n",
      "Requirement already satisfied: keras-applications>=1.0.6 in /home/ec2-user/anaconda3/envs/tensorflow_p36/lib/python3.6/site-packages (from Keras>=2->-r requirements.txt (line 1)) (1.0.8)\n",
      "Requirement already satisfied: scipy>=0.14 in /home/ec2-user/anaconda3/envs/tensorflow_p36/lib/python3.6/site-packages (from Keras>=2->-r requirements.txt (line 1)) (1.3.0)\n",
      "Requirement already satisfied: numexpr>=2.5.2 in /home/ec2-user/anaconda3/envs/tensorflow_p36/lib/python3.6/site-packages (from tables>=3.4.2->-r requirements.txt (line 4)) (2.6.9)\n",
      "Installing collected packages: nibabel, nilearn\n",
      "Successfully installed nibabel-2.5.1 nilearn-0.5.2\n",
      "\u001b[33mYou are using pip version 10.0.1, however version 19.3.1 is available.\n",
      "You should consider upgrading via the 'pip install --upgrade pip' command.\u001b[0m\n"
     ]
    }
   ],
   "source": [
    "!pip install -r requirements.txt"
   ]
  },
  {
   "cell_type": "code",
   "execution_count": 11,
   "metadata": {},
   "outputs": [
    {
     "name": "stdout",
     "output_type": "stream",
     "text": [
      "Requirement already satisfied: joblib in /home/ec2-user/anaconda3/envs/tensorflow_p36/lib/python3.6/site-packages (0.13.2)\n",
      "\u001b[33mYou are using pip version 10.0.1, however version 19.3.1 is available.\n",
      "You should consider upgrading via the 'pip install --upgrade pip' command.\u001b[0m\n"
     ]
    }
   ],
   "source": [
    "!pip install joblib"
   ]
  },
  {
   "cell_type": "code",
   "execution_count": 5,
   "metadata": {},
   "outputs": [
    {
     "name": "stdout",
     "output_type": "stream",
     "text": [
      "Collecting git+https://www.github.com/keras-team/keras-contrib.git\n",
      "  Cloning https://www.github.com/keras-team/keras-contrib.git to /tmp/pip-req-build-24kuh3x1\n",
      "Requirement already satisfied: keras in /home/ec2-user/anaconda3/envs/tensorflow_p36/lib/python3.6/site-packages (from keras-contrib==2.0.8) (2.2.4)\n",
      "Requirement already satisfied: keras-preprocessing>=1.0.5 in /home/ec2-user/anaconda3/envs/tensorflow_p36/lib/python3.6/site-packages (from keras->keras-contrib==2.0.8) (1.1.0)\n",
      "Requirement already satisfied: numpy>=1.9.1 in /home/ec2-user/anaconda3/envs/tensorflow_p36/lib/python3.6/site-packages (from keras->keras-contrib==2.0.8) (1.16.4)\n",
      "Requirement already satisfied: h5py in /home/ec2-user/anaconda3/envs/tensorflow_p36/lib/python3.6/site-packages (from keras->keras-contrib==2.0.8) (2.8.0)\n",
      "Requirement already satisfied: keras-applications>=1.0.6 in /home/ec2-user/anaconda3/envs/tensorflow_p36/lib/python3.6/site-packages (from keras->keras-contrib==2.0.8) (1.0.8)\n",
      "Requirement already satisfied: scipy>=0.14 in /home/ec2-user/anaconda3/envs/tensorflow_p36/lib/python3.6/site-packages (from keras->keras-contrib==2.0.8) (1.3.0)\n",
      "Requirement already satisfied: pyyaml in /home/ec2-user/anaconda3/envs/tensorflow_p36/lib/python3.6/site-packages (from keras->keras-contrib==2.0.8) (3.12)\n",
      "Requirement already satisfied: six>=1.9.0 in /home/ec2-user/anaconda3/envs/tensorflow_p36/lib/python3.6/site-packages (from keras->keras-contrib==2.0.8) (1.11.0)\n",
      "Building wheels for collected packages: keras-contrib\n",
      "  Running setup.py bdist_wheel for keras-contrib ... \u001b[?25ldone\n",
      "\u001b[?25h  Stored in directory: /tmp/pip-ephem-wheel-cache-_cq79n10/wheels/11/27/c8/4ed56de7b55f4f61244e2dc6ef3cdbaff2692527a2ce6502ba\n",
      "Successfully built keras-contrib\n",
      "Installing collected packages: keras-contrib\n",
      "Successfully installed keras-contrib-2.0.8\n",
      "\u001b[33mYou are using pip version 10.0.1, however version 19.3.1 is available.\n",
      "You should consider upgrading via the 'pip install --upgrade pip' command.\u001b[0m\n"
     ]
    }
   ],
   "source": [
    "!pip install git+https://www.github.com/keras-team/keras-contrib.git"
   ]
  },
  {
   "cell_type": "markdown",
   "metadata": {},
   "source": [
    "### Download Dataset from S3 Bucket"
   ]
  },
  {
   "cell_type": "code",
   "execution_count": 98,
   "metadata": {},
   "outputs": [
    {
     "name": "stdout",
     "output_type": "stream",
     "text": [
      "download: s3://brainhack.neuroavengers/Sub-1.nii.gz to data/Sub-1.nii.gz\n"
     ]
    }
   ],
   "source": [
    "!aws s3 cp s3://brainhack.neuroavengers/Sub-1.nii.gz /home/ec2-user/SageMaker/data"
   ]
  },
  {
   "cell_type": "code",
   "execution_count": 97,
   "metadata": {},
   "outputs": [],
   "source": [
    "# import os\n",
    "# for file in os.listdir('./data'):\n",
    "#     os.remove(f'./data/{file}')"
   ]
  },
  {
   "cell_type": "code",
   "execution_count": 63,
   "metadata": {},
   "outputs": [
    {
     "data": {
      "text/plain": [
       "(182, 218, 182)"
      ]
     },
     "execution_count": 63,
     "metadata": {},
     "output_type": "execute_result"
    }
   ],
   "source": [
    "import nibabel as nib\n",
    "\n",
    "img_file = './Sub-1.nii.gz'\n",
    "\n",
    "brain_img = nib.load(img_file)\n",
    "brain_img.shape"
   ]
  },
  {
   "cell_type": "markdown",
   "metadata": {},
   "source": [
    "#### Find label file"
   ]
  },
  {
   "cell_type": "code",
   "execution_count": 109,
   "metadata": {},
   "outputs": [
    {
     "name": "stdout",
     "output_type": "stream",
     "text": [
      "download: s3://brainhack.neuroavengers/Sub-1.nii.gz to data/Sub-1.nii.gz\n"
     ]
    }
   ],
   "source": [
    "!aws s3 cp s3://brainhack.neuroavengers/Sub-1.nii.gz /home/ec2-user/SageMaker/data"
   ]
  },
  {
   "cell_type": "code",
   "execution_count": null,
   "metadata": {},
   "outputs": [],
   "source": [
    "!aws s3 cp s3://brainhack.neuroavengers/practice_input.npy /home/ec2-user/SageMaker/data"
   ]
  },
  {
   "cell_type": "code",
   "execution_count": 126,
   "metadata": {},
   "outputs": [
    {
     "name": "stdout",
     "output_type": "stream",
     "text": [
      "Requirement already satisfied: s3fs in /home/ec2-user/anaconda3/envs/tensorflow_p36/lib/python3.6/site-packages (0.1.5)\n",
      "Requirement already satisfied: botocore in /home/ec2-user/anaconda3/envs/tensorflow_p36/lib/python3.6/site-packages (from s3fs) (1.12.253)\n",
      "Requirement already satisfied: boto3 in /home/ec2-user/anaconda3/envs/tensorflow_p36/lib/python3.6/site-packages (from s3fs) (1.9.253)\n",
      "Requirement already satisfied: jmespath<1.0.0,>=0.7.1 in /home/ec2-user/anaconda3/envs/tensorflow_p36/lib/python3.6/site-packages (from botocore->s3fs) (0.9.4)\n",
      "Requirement already satisfied: urllib3<1.26,>=1.20; python_version >= \"3.4\" in /home/ec2-user/anaconda3/envs/tensorflow_p36/lib/python3.6/site-packages (from botocore->s3fs) (1.23)\n",
      "Requirement already satisfied: python-dateutil<3.0.0,>=2.1; python_version >= \"2.7\" in /home/ec2-user/anaconda3/envs/tensorflow_p36/lib/python3.6/site-packages (from botocore->s3fs) (2.7.3)\n",
      "Requirement already satisfied: docutils<0.16,>=0.10 in /home/ec2-user/anaconda3/envs/tensorflow_p36/lib/python3.6/site-packages (from botocore->s3fs) (0.14)\n",
      "Requirement already satisfied: s3transfer<0.3.0,>=0.2.0 in /home/ec2-user/anaconda3/envs/tensorflow_p36/lib/python3.6/site-packages (from boto3->s3fs) (0.2.1)\n",
      "Requirement already satisfied: six>=1.5 in /home/ec2-user/anaconda3/envs/tensorflow_p36/lib/python3.6/site-packages (from python-dateutil<3.0.0,>=2.1; python_version >= \"2.7\"->botocore->s3fs) (1.11.0)\n",
      "\u001b[33mYou are using pip version 10.0.1, however version 19.3.1 is available.\n",
      "You should consider upgrading via the 'pip install --upgrade pip' command.\u001b[0m\n"
     ]
    }
   ],
   "source": [
    "!pip install s3fs"
   ]
  },
  {
   "cell_type": "code",
   "execution_count": 149,
   "metadata": {},
   "outputs": [],
   "source": [
    "import s3fs\n",
    "s3 = s3fs.S3FileSystem(anon=False)\n",
    "\n",
    "# s3.ls('s3://brainhack.neuroavengers')"
   ]
  },
  {
   "cell_type": "code",
   "execution_count": 151,
   "metadata": {},
   "outputs": [
    {
     "name": "stdout",
     "output_type": "stream",
     "text": [
      "s3://brainhack.neuroavengers/Sub-1.nii.gz\n"
     ]
    },
    {
     "ename": "FileNotFoundError",
     "evalue": "No such file or no access: 's3://brainhack.neuroavengers/Sub-1.nii.gz'",
     "output_type": "error",
     "traceback": [
      "\u001b[0;31m---------------------------------------------------------------------------\u001b[0m",
      "\u001b[0;31mFileNotFoundError\u001b[0m                         Traceback (most recent call last)",
      "\u001b[0;32m~/anaconda3/envs/tensorflow_p36/lib/python3.6/site-packages/nibabel/loadsave.py\u001b[0m in \u001b[0;36mload\u001b[0;34m(filename, **kwargs)\u001b[0m\n\u001b[1;32m     39\u001b[0m     \u001b[0;32mtry\u001b[0m\u001b[0;34m:\u001b[0m\u001b[0;34m\u001b[0m\u001b[0m\n\u001b[0;32m---> 40\u001b[0;31m         \u001b[0mstat_result\u001b[0m \u001b[0;34m=\u001b[0m \u001b[0mos\u001b[0m\u001b[0;34m.\u001b[0m\u001b[0mstat\u001b[0m\u001b[0;34m(\u001b[0m\u001b[0mfilename\u001b[0m\u001b[0;34m)\u001b[0m\u001b[0;34m\u001b[0m\u001b[0m\n\u001b[0m\u001b[1;32m     41\u001b[0m     \u001b[0;32mexcept\u001b[0m \u001b[0mOSError\u001b[0m\u001b[0;34m:\u001b[0m\u001b[0;34m\u001b[0m\u001b[0m\n",
      "\u001b[0;31mFileNotFoundError\u001b[0m: [Errno 2] No such file or directory: 's3://brainhack.neuroavengers/Sub-1.nii.gz'",
      "\nDuring handling of the above exception, another exception occurred:\n",
      "\u001b[0;31mFileNotFoundError\u001b[0m                         Traceback (most recent call last)",
      "\u001b[0;32m<ipython-input-151-02aefd5c83d5>\u001b[0m in \u001b[0;36m<module>\u001b[0;34m()\u001b[0m\n\u001b[1;32m      3\u001b[0m \u001b[0;34m\u001b[0m\u001b[0m\n\u001b[1;32m      4\u001b[0m \u001b[0mprint\u001b[0m\u001b[0;34m(\u001b[0m\u001b[0;34mf'{bucketname}/{filename}'\u001b[0m\u001b[0;34m)\u001b[0m\u001b[0;34m\u001b[0m\u001b[0m\n\u001b[0;32m----> 5\u001b[0;31m \u001b[0mnib\u001b[0m\u001b[0;34m.\u001b[0m\u001b[0mload\u001b[0m\u001b[0;34m(\u001b[0m\u001b[0;34m's3://brainhack.neuroavengers/Sub-1.nii.gz'\u001b[0m\u001b[0;34m)\u001b[0m\u001b[0;34m\u001b[0m\u001b[0m\n\u001b[0m\u001b[1;32m      6\u001b[0m \u001b[0;32mwith\u001b[0m \u001b[0ms3\u001b[0m\u001b[0;34m.\u001b[0m\u001b[0mopen\u001b[0m\u001b[0;34m(\u001b[0m\u001b[0;34mf'{bucketname}/Sub-1.nii.gz'\u001b[0m\u001b[0;34m)\u001b[0m \u001b[0;32mas\u001b[0m \u001b[0mbrain_img\u001b[0m\u001b[0;34m:\u001b[0m\u001b[0;34m\u001b[0m\u001b[0m\n\u001b[1;32m      7\u001b[0m     \u001b[0mprint\u001b[0m\u001b[0;34m(\u001b[0m\u001b[0mtype\u001b[0m\u001b[0;34m(\u001b[0m\u001b[0mbrain_img\u001b[0m\u001b[0;34m)\u001b[0m\u001b[0;34m)\u001b[0m\u001b[0;34m\u001b[0m\u001b[0m\n",
      "\u001b[0;32m~/anaconda3/envs/tensorflow_p36/lib/python3.6/site-packages/nibabel/loadsave.py\u001b[0m in \u001b[0;36mload\u001b[0;34m(filename, **kwargs)\u001b[0m\n\u001b[1;32m     40\u001b[0m         \u001b[0mstat_result\u001b[0m \u001b[0;34m=\u001b[0m \u001b[0mos\u001b[0m\u001b[0;34m.\u001b[0m\u001b[0mstat\u001b[0m\u001b[0;34m(\u001b[0m\u001b[0mfilename\u001b[0m\u001b[0;34m)\u001b[0m\u001b[0;34m\u001b[0m\u001b[0m\n\u001b[1;32m     41\u001b[0m     \u001b[0;32mexcept\u001b[0m \u001b[0mOSError\u001b[0m\u001b[0;34m:\u001b[0m\u001b[0;34m\u001b[0m\u001b[0m\n\u001b[0;32m---> 42\u001b[0;31m         \u001b[0;32mraise\u001b[0m \u001b[0mFileNotFoundError\u001b[0m\u001b[0;34m(\u001b[0m\u001b[0;34m\"No such file or no access: '%s'\"\u001b[0m \u001b[0;34m%\u001b[0m \u001b[0mfilename\u001b[0m\u001b[0;34m)\u001b[0m\u001b[0;34m\u001b[0m\u001b[0m\n\u001b[0m\u001b[1;32m     43\u001b[0m     \u001b[0;32mif\u001b[0m \u001b[0mstat_result\u001b[0m\u001b[0;34m.\u001b[0m\u001b[0mst_size\u001b[0m \u001b[0;34m<=\u001b[0m \u001b[0;36m0\u001b[0m\u001b[0;34m:\u001b[0m\u001b[0;34m\u001b[0m\u001b[0m\n\u001b[1;32m     44\u001b[0m         \u001b[0;32mraise\u001b[0m \u001b[0mImageFileError\u001b[0m\u001b[0;34m(\u001b[0m\u001b[0;34m\"Empty file: '%s'\"\u001b[0m \u001b[0;34m%\u001b[0m \u001b[0mfilename\u001b[0m\u001b[0;34m)\u001b[0m\u001b[0;34m\u001b[0m\u001b[0m\n",
      "\u001b[0;31mFileNotFoundError\u001b[0m: No such file or no access: 's3://brainhack.neuroavengers/Sub-1.nii.gz'"
     ]
    }
   ],
   "source": [
    "bucketname = 's3://brainhack.neuroavengers' # customize to your bucket\n",
    "filename = 'Sub-1.nii.gz'\n",
    "\n",
    "print(f'{bucketname}/{filename}')\n",
    "nib.load('s3://brainhack.neuroavengers/Sub-1.nii.gz')\n",
    "with s3.open(f'{bucketname}/Sub-1.nii.gz') as brain_img:\n",
    "    print(type(brain_img))\n",
    "    nib.load(brain_img)"
   ]
  },
  {
   "cell_type": "code",
   "execution_count": 153,
   "metadata": {},
   "outputs": [
    {
     "name": "stderr",
     "output_type": "stream",
     "text": [
      "IOPub data rate exceeded.\n",
      "The notebook server will temporarily stop sending output\n",
      "to the client in order to avoid crashing it.\n",
      "To change this limit, set the config variable\n",
      "`--NotebookApp.iopub_data_rate_limit`.\n",
      "\n",
      "Current values:\n",
      "NotebookApp.iopub_data_rate_limit=1000000.0 (bytes/sec)\n",
      "NotebookApp.rate_limit_window=3.0 (secs)\n",
      "\n"
     ]
    },
    {
     "ename": "ValueError",
     "evalue": "stat: embedded null character in path",
     "output_type": "error",
     "traceback": [
      "\u001b[0;31m---------------------------------------------------------------------------\u001b[0m",
      "\u001b[0;31mValueError\u001b[0m                                Traceback (most recent call last)",
      "\u001b[0;32m<ipython-input-153-8e6c63a30672>\u001b[0m in \u001b[0;36m<module>\u001b[0;34m()\u001b[0m\n\u001b[1;32m     16\u001b[0m \u001b[0;31m# contents = body.decode('utf-8')\u001b[0m\u001b[0;34m\u001b[0m\u001b[0;34m\u001b[0m\u001b[0m\n\u001b[1;32m     17\u001b[0m \u001b[0;31m# s3.Bucket(bucketname).download_file(filename, 'Sub-1copy.nii.gz')\u001b[0m\u001b[0;34m\u001b[0m\u001b[0;34m\u001b[0m\u001b[0m\n\u001b[0;32m---> 18\u001b[0;31m \u001b[0mnib\u001b[0m\u001b[0;34m.\u001b[0m\u001b[0mload\u001b[0m\u001b[0;34m(\u001b[0m\u001b[0mbody\u001b[0m\u001b[0;34m)\u001b[0m\u001b[0;34m\u001b[0m\u001b[0m\n\u001b[0m",
      "\u001b[0;32m~/anaconda3/envs/tensorflow_p36/lib/python3.6/site-packages/nibabel/loadsave.py\u001b[0m in \u001b[0;36mload\u001b[0;34m(filename, **kwargs)\u001b[0m\n\u001b[1;32m     38\u001b[0m     '''\n\u001b[1;32m     39\u001b[0m     \u001b[0;32mtry\u001b[0m\u001b[0;34m:\u001b[0m\u001b[0;34m\u001b[0m\u001b[0m\n\u001b[0;32m---> 40\u001b[0;31m         \u001b[0mstat_result\u001b[0m \u001b[0;34m=\u001b[0m \u001b[0mos\u001b[0m\u001b[0;34m.\u001b[0m\u001b[0mstat\u001b[0m\u001b[0;34m(\u001b[0m\u001b[0mfilename\u001b[0m\u001b[0;34m)\u001b[0m\u001b[0;34m\u001b[0m\u001b[0m\n\u001b[0m\u001b[1;32m     41\u001b[0m     \u001b[0;32mexcept\u001b[0m \u001b[0mOSError\u001b[0m\u001b[0;34m:\u001b[0m\u001b[0;34m\u001b[0m\u001b[0m\n\u001b[1;32m     42\u001b[0m         \u001b[0;32mraise\u001b[0m \u001b[0mFileNotFoundError\u001b[0m\u001b[0;34m(\u001b[0m\u001b[0;34m\"No such file or no access: '%s'\"\u001b[0m \u001b[0;34m%\u001b[0m \u001b[0mfilename\u001b[0m\u001b[0;34m)\u001b[0m\u001b[0;34m\u001b[0m\u001b[0m\n",
      "\u001b[0;31mValueError\u001b[0m: stat: embedded null character in path"
     ]
    }
   ],
   "source": [
    "import boto3\n",
    "import re\n",
    "from sagemaker import get_execution_role\n",
    "from sagemaker.amazon.amazon_estimator import get_image_uri\n",
    "from io import BytesIO\n",
    "\n",
    "role = get_execution_role()\n",
    "\n",
    "bucketname = 'brainhack.neuroavengers' # customize to your bucket\n",
    "filename = 'Sub-1.nii.gz'\n",
    "\n",
    "s3 = boto3.resource('s3')\n",
    "obj = s3.Object(bucketname, filename)\n",
    "body = obj.get()['Body'].read()\n",
    "print(body)\n",
    "# contents = body.decode('utf-8')\n",
    "# s3.Bucket(bucketname).download_file(filename, 'Sub-1copy.nii.gz')\n",
    "nib.load(body)"
   ]
  },
  {
   "cell_type": "code",
   "execution_count": 155,
   "metadata": {},
   "outputs": [
    {
     "data": {
      "text/plain": [
       "['requirements.txt',\n",
       " 'Unet_transfer_learning.ipynb',\n",
       " 'Sub-1copy.nii.gz',\n",
       " 'Sub-1.nii.gz',\n",
       " 'isensee_2017_model.h5',\n",
       " 'brain.png',\n",
       " 'object_detection_birds_2019-11-14',\n",
       " '.sparkmagic',\n",
       " 'brain2.png',\n",
       " '.ipynb_checkpoints',\n",
       " 'Sub-1.nii',\n",
       " 'data',\n",
       " 'lost+found',\n",
       " 'isensee_2017_model.h5?dl=1']"
      ]
     },
     "execution_count": 155,
     "metadata": {},
     "output_type": "execute_result"
    }
   ],
   "source": [
    "os.listdir()"
   ]
  },
  {
   "cell_type": "markdown",
   "metadata": {},
   "source": [
    "### Visualize Image"
   ]
  },
  {
   "cell_type": "code",
   "execution_count": 113,
   "metadata": {},
   "outputs": [
    {
     "ename": "TypeError",
     "evalue": "Data given cannot be loaded because it is not compatible with nibabel format:\ns3.Object(bucket_n...",
     "output_type": "error",
     "traceback": [
      "\u001b[0;31m---------------------------------------------------------------------------\u001b[0m",
      "\u001b[0;31mTypeError\u001b[0m                                 Traceback (most recent call last)",
      "\u001b[0;32m<ipython-input-113-2bac08b75066>\u001b[0m in \u001b[0;36m<module>\u001b[0;34m()\u001b[0m\n\u001b[1;32m      1\u001b[0m \u001b[0;32mfrom\u001b[0m \u001b[0mnilearn\u001b[0m \u001b[0;32mimport\u001b[0m \u001b[0mplotting\u001b[0m\u001b[0;34m\u001b[0m\u001b[0m\n\u001b[0;32m----> 2\u001b[0;31m \u001b[0mdisplay\u001b[0m \u001b[0;34m=\u001b[0m \u001b[0mplotting\u001b[0m\u001b[0;34m.\u001b[0m\u001b[0mplot_anat\u001b[0m\u001b[0;34m(\u001b[0m\u001b[0mobj\u001b[0m\u001b[0;34m,\u001b[0m \u001b[0mdisplay_mode\u001b[0m\u001b[0;34m=\u001b[0m\u001b[0;34m'ortho'\u001b[0m\u001b[0;34m,\u001b[0m \u001b[0mcut_coords\u001b[0m\u001b[0;34m=\u001b[0m\u001b[0;34m[\u001b[0m\u001b[0;36m36\u001b[0m\u001b[0;34m,\u001b[0m \u001b[0;34m-\u001b[0m\u001b[0;36m27\u001b[0m\u001b[0;34m,\u001b[0m \u001b[0;36m60\u001b[0m\u001b[0;34m]\u001b[0m\u001b[0;34m)\u001b[0m\u001b[0;34m\u001b[0m\u001b[0m\n\u001b[0m\u001b[1;32m      3\u001b[0m \u001b[0mdisplay\u001b[0m\u001b[0;34m.\u001b[0m\u001b[0msavefig\u001b[0m\u001b[0;34m(\u001b[0m\u001b[0;34m'brain.png'\u001b[0m\u001b[0;34m)\u001b[0m\u001b[0;34m\u001b[0m\u001b[0m\n",
      "\u001b[0;32m~/anaconda3/envs/tensorflow_p36/lib/python3.6/site-packages/nilearn/plotting/img_plotting.py\u001b[0m in \u001b[0;36mplot_anat\u001b[0;34m(anat_img, cut_coords, output_file, display_mode, figure, axes, title, annotate, threshold, draw_cross, black_bg, dim, cmap, vmin, vmax, **kwargs)\u001b[0m\n\u001b[1;32m    512\u001b[0m     anat_img, black_bg, anat_vmin, anat_vmax = _load_anat(\n\u001b[1;32m    513\u001b[0m         \u001b[0manat_img\u001b[0m\u001b[0;34m,\u001b[0m\u001b[0;34m\u001b[0m\u001b[0m\n\u001b[0;32m--> 514\u001b[0;31m         dim=dim, black_bg=black_bg)\n\u001b[0m\u001b[1;32m    515\u001b[0m \u001b[0;34m\u001b[0m\u001b[0m\n\u001b[1;32m    516\u001b[0m     \u001b[0;32mif\u001b[0m \u001b[0mvmin\u001b[0m \u001b[0;32mis\u001b[0m \u001b[0;32mNone\u001b[0m\u001b[0;34m:\u001b[0m\u001b[0;34m\u001b[0m\u001b[0m\n",
      "\u001b[0;32m~/anaconda3/envs/tensorflow_p36/lib/python3.6/site-packages/nilearn/plotting/img_plotting.py\u001b[0m in \u001b[0;36m_load_anat\u001b[0;34m(anat_img, dim, black_bg)\u001b[0m\n\u001b[1;32m    391\u001b[0m             \u001b[0mblack_bg\u001b[0m \u001b[0;34m=\u001b[0m \u001b[0;32mFalse\u001b[0m\u001b[0;34m\u001b[0m\u001b[0m\n\u001b[1;32m    392\u001b[0m     \u001b[0;32melse\u001b[0m\u001b[0;34m:\u001b[0m\u001b[0;34m\u001b[0m\u001b[0m\n\u001b[0;32m--> 393\u001b[0;31m         \u001b[0manat_img\u001b[0m \u001b[0;34m=\u001b[0m \u001b[0m_utils\u001b[0m\u001b[0;34m.\u001b[0m\u001b[0mcheck_niimg_3d\u001b[0m\u001b[0;34m(\u001b[0m\u001b[0manat_img\u001b[0m\u001b[0;34m)\u001b[0m\u001b[0;34m\u001b[0m\u001b[0m\n\u001b[0m\u001b[1;32m    394\u001b[0m         \u001b[0;31m# Clean anat_img for non-finite values to avoid computing unnecessary\u001b[0m\u001b[0;34m\u001b[0m\u001b[0;34m\u001b[0m\u001b[0m\n\u001b[1;32m    395\u001b[0m         \u001b[0;31m# border data values.\u001b[0m\u001b[0;34m\u001b[0m\u001b[0;34m\u001b[0m\u001b[0m\n",
      "\u001b[0;32m~/anaconda3/envs/tensorflow_p36/lib/python3.6/site-packages/nilearn/_utils/niimg_conversions.py\u001b[0m in \u001b[0;36mcheck_niimg_3d\u001b[0;34m(niimg, dtype)\u001b[0m\n\u001b[1;32m    320\u001b[0m     \u001b[0mIts\u001b[0m \u001b[0mapplication\u001b[0m \u001b[0;32mis\u001b[0m \u001b[0midempotent\u001b[0m\u001b[0;34m.\u001b[0m\u001b[0;34m\u001b[0m\u001b[0m\n\u001b[1;32m    321\u001b[0m     \"\"\"\n\u001b[0;32m--> 322\u001b[0;31m     \u001b[0;32mreturn\u001b[0m \u001b[0mcheck_niimg\u001b[0m\u001b[0;34m(\u001b[0m\u001b[0mniimg\u001b[0m\u001b[0;34m,\u001b[0m \u001b[0mensure_ndim\u001b[0m\u001b[0;34m=\u001b[0m\u001b[0;36m3\u001b[0m\u001b[0;34m,\u001b[0m \u001b[0mdtype\u001b[0m\u001b[0;34m=\u001b[0m\u001b[0mdtype\u001b[0m\u001b[0;34m)\u001b[0m\u001b[0;34m\u001b[0m\u001b[0m\n\u001b[0m\u001b[1;32m    323\u001b[0m \u001b[0;34m\u001b[0m\u001b[0m\n\u001b[1;32m    324\u001b[0m \u001b[0;34m\u001b[0m\u001b[0m\n",
      "\u001b[0;32m~/anaconda3/envs/tensorflow_p36/lib/python3.6/site-packages/nilearn/_utils/niimg_conversions.py\u001b[0m in \u001b[0;36mcheck_niimg\u001b[0;34m(niimg, ensure_ndim, atleast_4d, dtype, return_iterator, wildcards)\u001b[0m\n\u001b[1;32m    269\u001b[0m \u001b[0;34m\u001b[0m\u001b[0m\n\u001b[1;32m    270\u001b[0m     \u001b[0;31m# Otherwise, it should be a filename or a SpatialImage, we load it\u001b[0m\u001b[0;34m\u001b[0m\u001b[0;34m\u001b[0m\u001b[0m\n\u001b[0;32m--> 271\u001b[0;31m     \u001b[0mniimg\u001b[0m \u001b[0;34m=\u001b[0m \u001b[0mload_niimg\u001b[0m\u001b[0;34m(\u001b[0m\u001b[0mniimg\u001b[0m\u001b[0;34m,\u001b[0m \u001b[0mdtype\u001b[0m\u001b[0;34m=\u001b[0m\u001b[0mdtype\u001b[0m\u001b[0;34m)\u001b[0m\u001b[0;34m\u001b[0m\u001b[0m\n\u001b[0m\u001b[1;32m    272\u001b[0m \u001b[0;34m\u001b[0m\u001b[0m\n\u001b[1;32m    273\u001b[0m     \u001b[0;32mif\u001b[0m \u001b[0mensure_ndim\u001b[0m \u001b[0;34m==\u001b[0m \u001b[0;36m3\u001b[0m \u001b[0;32mand\u001b[0m \u001b[0mlen\u001b[0m\u001b[0;34m(\u001b[0m\u001b[0mniimg\u001b[0m\u001b[0;34m.\u001b[0m\u001b[0mshape\u001b[0m\u001b[0;34m)\u001b[0m \u001b[0;34m==\u001b[0m \u001b[0;36m4\u001b[0m \u001b[0;32mand\u001b[0m \u001b[0mniimg\u001b[0m\u001b[0;34m.\u001b[0m\u001b[0mshape\u001b[0m\u001b[0;34m[\u001b[0m\u001b[0;36m3\u001b[0m\u001b[0;34m]\u001b[0m \u001b[0;34m==\u001b[0m \u001b[0;36m1\u001b[0m\u001b[0;34m:\u001b[0m\u001b[0;34m\u001b[0m\u001b[0m\n",
      "\u001b[0;32m~/anaconda3/envs/tensorflow_p36/lib/python3.6/site-packages/nilearn/_utils/niimg.py\u001b[0m in \u001b[0;36mload_niimg\u001b[0;34m(niimg, dtype)\u001b[0m\n\u001b[1;32m    112\u001b[0m         raise TypeError(\"Data given cannot be loaded because it is\"\n\u001b[1;32m    113\u001b[0m                         \u001b[0;34m\" not compatible with nibabel format:\\n\"\u001b[0m\u001b[0;34m\u001b[0m\u001b[0m\n\u001b[0;32m--> 114\u001b[0;31m                         + short_repr(niimg))\n\u001b[0m\u001b[1;32m    115\u001b[0m \u001b[0;34m\u001b[0m\u001b[0m\n\u001b[1;32m    116\u001b[0m     \u001b[0mdtype\u001b[0m \u001b[0;34m=\u001b[0m \u001b[0m_get_target_dtype\u001b[0m\u001b[0;34m(\u001b[0m\u001b[0mniimg\u001b[0m\u001b[0;34m.\u001b[0m\u001b[0mget_data\u001b[0m\u001b[0;34m(\u001b[0m\u001b[0;34m)\u001b[0m\u001b[0;34m.\u001b[0m\u001b[0mdtype\u001b[0m\u001b[0;34m,\u001b[0m \u001b[0mdtype\u001b[0m\u001b[0;34m)\u001b[0m\u001b[0;34m\u001b[0m\u001b[0m\n",
      "\u001b[0;31mTypeError\u001b[0m: Data given cannot be loaded because it is not compatible with nibabel format:\ns3.Object(bucket_n..."
     ]
    }
   ],
   "source": [
    "from nilearn import plotting\n",
    "display = plotting.plot_anat(brain_img, display_mode='ortho', cut_coords=[36, -27, 60])\n",
    "display.savefig('brain.png')"
   ]
  },
  {
   "cell_type": "code",
   "execution_count": 65,
   "metadata": {},
   "outputs": [
    {
     "data": {
      "image/png": "[encoded data removed]",
      "text/plain": [
       "<IPython.core.display.Image object>"
      ]
     },
     "execution_count": 65,
     "metadata": {},
     "output_type": "execute_result"
    }
   ],
   "source": [
    "from IPython.display import Image\n",
    "Image(filename='brain.png')"
   ]
  },
  {
   "cell_type": "code",
   "execution_count": 76,
   "metadata": {},
   "outputs": [
    {
     "name": "stdout",
     "output_type": "stream",
     "text": [
      "(187, 475, 4)\n",
      "(187, 475, 3)\n"
     ]
    }
   ],
   "source": [
    "import matplotlib.pyplot as plt \n",
    "import matplotlib.image as img\n",
    "import numpy as np\n",
    "\n",
    "im = img.imread('brain.png')\n",
    "print(im.shape)\n",
    "\n",
    "im = im[:,:,0:3]\n",
    "print(im.shape)\n",
    "img.imsave('brain2.png', im)"
   ]
  },
  {
   "cell_type": "code",
   "execution_count": 77,
   "metadata": {},
   "outputs": [
    {
     "data": {
      "image/png": "[encoded data removed]",
      "text/plain": [
       "<IPython.core.display.Image object>"
      ]
     },
     "execution_count": 77,
     "metadata": {},
     "output_type": "execute_result"
    }
   ],
   "source": [
    "from IPython.display import Image\n",
    "Image(filename='brain2.png')"
   ]
  },
  {
   "cell_type": "markdown",
   "metadata": {},
   "source": [
    "### Download Pre-trained Model"
   ]
  },
  {
   "cell_type": "code",
   "execution_count": 48,
   "metadata": {},
   "outputs": [
    {
     "name": "stdout",
     "output_type": "stream",
     "text": [
      "--2019-11-14 02:33:03--  https://www.dropbox.com/s/tgr0chjbj5oz2f7/isensee_2017_model.h5\n",
      "Resolving www.dropbox.com (www.dropbox.com)... 162.125.6.1, 2620:100:601c:1::a27d:601\n",
      "Connecting to www.dropbox.com (www.dropbox.com)|162.125.6.1|:443... connected.\n",
      "HTTP request sent, awaiting response... 301 Moved Permanently\n",
      "Location: /s/raw/tgr0chjbj5oz2f7/isensee_2017_model.h5 [following]\n",
      "--2019-11-14 02:33:04--  https://www.dropbox.com/s/raw/tgr0chjbj5oz2f7/isensee_2017_model.h5\n",
      "Reusing existing connection to www.dropbox.com:443.\n",
      "HTTP request sent, awaiting response... 302 Found\n",
      "Location: https://uca1a8cebeda4be8fb573bea50e6.dl.dropboxusercontent.com/cd/0/inline/AsWJBuZ6Fe5hFymD-XEDEDyx9cx6w1GBB7DwtKB0qZISXKInq1bYZZX_9tPOH-muR6Bf-yqeVlPItU2N15HR90_9JV6oP_O8ut0fCUetWEDJeQ/file# [following]\n",
      "--2019-11-14 02:33:04--  https://uca1a8cebeda4be8fb573bea50e6.dl.dropboxusercontent.com/cd/0/inline/AsWJBuZ6Fe5hFymD-XEDEDyx9cx6w1GBB7DwtKB0qZISXKInq1bYZZX_9tPOH-muR6Bf-yqeVlPItU2N15HR90_9JV6oP_O8ut0fCUetWEDJeQ/file\n",
      "Resolving uca1a8cebeda4be8fb573bea50e6.dl.dropboxusercontent.com (uca1a8cebeda4be8fb573bea50e6.dl.dropboxusercontent.com)... 162.125.6.6, 2620:100:601c:6::a27d:606\n",
      "Connecting to uca1a8cebeda4be8fb573bea50e6.dl.dropboxusercontent.com (uca1a8cebeda4be8fb573bea50e6.dl.dropboxusercontent.com)|162.125.6.6|:443... connected.\n",
      "HTTP request sent, awaiting response... 200 OK\n",
      "Length: 99618304 (95M) [text/plain]\n",
      "Saving to: ‘isensee_2017_model.h5’\n",
      "\n",
      "isensee_2017_model. 100%[===================>]  95.00M  48.2MB/s    in 2.0s    \n",
      "\n",
      "2019-11-14 02:33:06 (48.2 MB/s) - ‘isensee_2017_model.h5’ saved [99618304/99618304]\n",
      "\n"
     ]
    }
   ],
   "source": [
    "!wget https://www.dropbox.com/s/tgr0chjbj5oz2f7/isensee_2017_model.h5"
   ]
  },
  {
   "cell_type": "code",
   "execution_count": 49,
   "metadata": {},
   "outputs": [
    {
     "data": {
      "text/plain": [
       "['requirements.txt',\n",
       " 'Untitled.ipynb',\n",
       " 'Sub-1.nii.gz',\n",
       " 'isensee_2017_model.h5',\n",
       " 'object_detection_birds_2019-11-14',\n",
       " '.sparkmagic',\n",
       " '.ipynb_checkpoints',\n",
       " 'Sub-1.nii',\n",
       " 'lost+found',\n",
       " 'isensee_2017_model.h5?dl=1']"
      ]
     },
     "execution_count": 49,
     "metadata": {},
     "output_type": "execute_result"
    }
   ],
   "source": [
    "import os\n",
    "os.getcwd()\n",
    "os.listdir()"
   ]
  },
  {
   "cell_type": "code",
   "execution_count": 159,
   "metadata": {},
   "outputs": [],
   "source": [
    "from functools import partial\n",
    "\n",
    "from keras import backend as K\n",
    "\n",
    "\n",
    "def dice_coefficient(y_true, y_pred, smooth=1.):\n",
    "    y_true_f = K.flatten(y_true)\n",
    "    y_pred_f = K.flatten(y_pred)\n",
    "    intersection = K.sum(y_true_f * y_pred_f)\n",
    "    return (2. * intersection + smooth) / (K.sum(y_true_f) + K.sum(y_pred_f) + smooth)\n",
    "\n",
    "\n",
    "def dice_coefficient_loss(y_true, y_pred):\n",
    "    return -dice_coefficient(y_true, y_pred)\n",
    "\n",
    "\n",
    "def weighted_dice_coefficient(y_true, y_pred, axis=(-3, -2, -1), smooth=0.00001):\n",
    "    \"\"\"\n",
    "    Weighted dice coefficient. Default axis assumes a \"channels first\" data structure\n",
    "    :param smooth:\n",
    "    :param y_true:\n",
    "    :param y_pred:\n",
    "    :param axis:\n",
    "    :return:\n",
    "    \"\"\"\n",
    "    return K.mean(2. * (K.sum(y_true * y_pred, axis=axis) + smooth/2)/(K.sum(y_true, axis=axis) + K.sum(y_pred, axis=axis) + smooth))\n",
    "\n",
    "\n",
    "def weighted_dice_coefficient_loss(y_true, y_pred):\n",
    "    return -weighted_dice_coefficient(y_true, y_pred)\n",
    "\n",
    "\n",
    "def label_wise_dice_coefficient(y_true, y_pred, label_index):\n",
    "    return dice_coefficient(y_true[:, label_index], y_pred[:, label_index])\n",
    "\n",
    "\n",
    "def get_label_dice_coefficient_function(label_index):\n",
    "    f = partial(label_wise_dice_coefficient, label_index=label_index)\n",
    "    f.__setattr__('__name__', 'label_{0}_dice_coef'.format(label_index))\n",
    "    return f\n",
    "\n",
    "\n",
    "dice_coef = dice_coefficient\n",
    "dice_coef_loss = dice_coefficient_loss"
   ]
  },
  {
   "cell_type": "code",
   "execution_count": 160,
   "metadata": {},
   "outputs": [
    {
     "name": "stderr",
     "output_type": "stream",
     "text": [
      "WARNING: Logging before flag parsing goes to stderr.\n",
      "W1114 19:11:20.971443 140325597321024 deprecation_wrapper.py:119] From /home/ec2-user/anaconda3/envs/tensorflow_p36/lib/python3.6/site-packages/keras/backend/tensorflow_backend.py:517: The name tf.placeholder is deprecated. Please use tf.compat.v1.placeholder instead.\n",
      "\n",
      "W1114 19:11:21.041207 140325597321024 deprecation_wrapper.py:119] From /home/ec2-user/anaconda3/envs/tensorflow_p36/lib/python3.6/site-packages/keras/backend/tensorflow_backend.py:4138: The name tf.random_uniform is deprecated. Please use tf.random.uniform instead.\n",
      "\n",
      "W1114 19:11:21.057559 140325597321024 deprecation_wrapper.py:119] From /home/ec2-user/anaconda3/envs/tensorflow_p36/lib/python3.6/site-packages/keras/backend/tensorflow_backend.py:245: The name tf.get_default_graph is deprecated. Please use tf.compat.v1.get_default_graph instead.\n",
      "\n",
      "W1114 19:11:21.058404 140325597321024 deprecation_wrapper.py:119] From /home/ec2-user/anaconda3/envs/tensorflow_p36/lib/python3.6/site-packages/keras/backend/tensorflow_backend.py:174: The name tf.get_default_session is deprecated. Please use tf.compat.v1.get_default_session instead.\n",
      "\n",
      "W1114 19:11:21.059190 140325597321024 deprecation_wrapper.py:119] From /home/ec2-user/anaconda3/envs/tensorflow_p36/lib/python3.6/site-packages/keras/backend/tensorflow_backend.py:184: The name tf.ConfigProto is deprecated. Please use tf.compat.v1.ConfigProto instead.\n",
      "\n",
      "W1114 19:11:21.499997 140325597321024 deprecation.py:506] From /home/ec2-user/anaconda3/envs/tensorflow_p36/lib/python3.6/site-packages/keras/backend/tensorflow_backend.py:3445: calling dropout (from tensorflow.python.ops.nn_ops) with keep_prob is deprecated and will be removed in a future version.\n",
      "Instructions for updating:\n",
      "Please use `rate` instead of `keep_prob`. Rate should be set to `rate = 1 - keep_prob`.\n",
      "W1114 19:11:25.239352 140325597321024 deprecation_wrapper.py:119] From /home/ec2-user/anaconda3/envs/tensorflow_p36/lib/python3.6/site-packages/keras/optimizers.py:790: The name tf.train.Optimizer is deprecated. Please use tf.compat.v1.train.Optimizer instead.\n",
      "\n"
     ]
    },
    {
     "name": "stdout",
     "output_type": "stream",
     "text": [
      "Model loaded.\n"
     ]
    },
    {
     "name": "stderr",
     "output_type": "stream",
     "text": [
      "/home/ec2-user/anaconda3/envs/tensorflow_p36/lib/python3.6/site-packages/keras/engine/saving.py:327: UserWarning: Error in loading the saved optimizer state. As a result, your model is starting with a freshly initialized optimizer.\n",
      "  warnings.warn('Error in loading the saved optimizer '\n"
     ]
    }
   ],
   "source": [
    "from keras.models import load_model\n",
    "from keras_contrib.layers import InstanceNormalization\n",
    "\n",
    "model_file = 'isensee_2017_model.h5'\n",
    "\n",
    "custom_objects = {'dice_coefficient_loss': dice_coefficient_loss, 'dice_coefficient': dice_coefficient,\n",
    "                      'dice_coef': dice_coef, 'dice_coef_loss': dice_coef_loss,\n",
    "                      'weighted_dice_coefficient': weighted_dice_coefficient,\n",
    "                      'weighted_dice_coefficient_loss': weighted_dice_coefficient_loss}\n",
    "\n",
    "custom_objects[\"InstanceNormalization\"] = InstanceNormalization\n",
    "# print(custom_objects)\n",
    "Unet_model = load_model(model_file, custom_objects=custom_objects)\n",
    "\n",
    "print('Model loaded.')"
   ]
  },
  {
   "cell_type": "code",
   "execution_count": 69,
   "metadata": {},
   "outputs": [
    {
     "name": "stdout",
     "output_type": "stream",
     "text": [
      "__________________________________________________________________________________________________\n",
      "Layer (type)                    Output Shape         Param #     Connected to                     \n",
      "==================================================================================================\n",
      "input_1 (InputLayer)            (None, 4, 128, 128,  0                                            \n",
      "__________________________________________________________________________________________________\n",
      "conv3d_1 (Conv3D)               (None, 16, 128, 128, 1744        input_1[0][0]                    \n",
      "__________________________________________________________________________________________________\n",
      "instance_normalization_1 (Insta (None, 16, 128, 128, 32          conv3d_1[0][0]                   \n",
      "__________________________________________________________________________________________________\n",
      "leaky_re_lu_1 (LeakyReLU)       (None, 16, 128, 128, 0           instance_normalization_1[0][0]   \n",
      "__________________________________________________________________________________________________\n",
      "conv3d_2 (Conv3D)               (None, 16, 128, 128, 6928        leaky_re_lu_1[0][0]              \n",
      "__________________________________________________________________________________________________\n",
      "instance_normalization_2 (Insta (None, 16, 128, 128, 32          conv3d_2[0][0]                   \n",
      "__________________________________________________________________________________________________\n",
      "leaky_re_lu_2 (LeakyReLU)       (None, 16, 128, 128, 0           instance_normalization_2[0][0]   \n",
      "__________________________________________________________________________________________________\n",
      "spatial_dropout3d_1 (SpatialDro (None, 16, 128, 128, 0           leaky_re_lu_2[0][0]              \n",
      "__________________________________________________________________________________________________\n",
      "conv3d_3 (Conv3D)               (None, 16, 128, 128, 6928        spatial_dropout3d_1[0][0]        \n",
      "__________________________________________________________________________________________________\n",
      "instance_normalization_3 (Insta (None, 16, 128, 128, 32          conv3d_3[0][0]                   \n",
      "__________________________________________________________________________________________________\n",
      "leaky_re_lu_3 (LeakyReLU)       (None, 16, 128, 128, 0           instance_normalization_3[0][0]   \n",
      "__________________________________________________________________________________________________\n",
      "add_1 (Add)                     (None, 16, 128, 128, 0           leaky_re_lu_1[0][0]              \n",
      "                                                                 leaky_re_lu_3[0][0]              \n",
      "__________________________________________________________________________________________________\n",
      "conv3d_4 (Conv3D)               (None, 32, 64, 64, 6 13856       add_1[0][0]                      \n",
      "__________________________________________________________________________________________________\n",
      "instance_normalization_4 (Insta (None, 32, 64, 64, 6 64          conv3d_4[0][0]                   \n",
      "__________________________________________________________________________________________________\n",
      "leaky_re_lu_4 (LeakyReLU)       (None, 32, 64, 64, 6 0           instance_normalization_4[0][0]   \n",
      "__________________________________________________________________________________________________\n",
      "conv3d_5 (Conv3D)               (None, 32, 64, 64, 6 27680       leaky_re_lu_4[0][0]              \n",
      "__________________________________________________________________________________________________\n",
      "instance_normalization_5 (Insta (None, 32, 64, 64, 6 64          conv3d_5[0][0]                   \n",
      "__________________________________________________________________________________________________\n",
      "leaky_re_lu_5 (LeakyReLU)       (None, 32, 64, 64, 6 0           instance_normalization_5[0][0]   \n",
      "__________________________________________________________________________________________________\n",
      "spatial_dropout3d_2 (SpatialDro (None, 32, 64, 64, 6 0           leaky_re_lu_5[0][0]              \n",
      "__________________________________________________________________________________________________\n",
      "conv3d_6 (Conv3D)               (None, 32, 64, 64, 6 27680       spatial_dropout3d_2[0][0]        \n",
      "__________________________________________________________________________________________________\n",
      "instance_normalization_6 (Insta (None, 32, 64, 64, 6 64          conv3d_6[0][0]                   \n",
      "__________________________________________________________________________________________________\n",
      "leaky_re_lu_6 (LeakyReLU)       (None, 32, 64, 64, 6 0           instance_normalization_6[0][0]   \n",
      "__________________________________________________________________________________________________\n",
      "add_2 (Add)                     (None, 32, 64, 64, 6 0           leaky_re_lu_4[0][0]              \n",
      "                                                                 leaky_re_lu_6[0][0]              \n",
      "__________________________________________________________________________________________________\n",
      "conv3d_7 (Conv3D)               (None, 64, 32, 32, 3 55360       add_2[0][0]                      \n",
      "__________________________________________________________________________________________________\n",
      "instance_normalization_7 (Insta (None, 64, 32, 32, 3 128         conv3d_7[0][0]                   \n",
      "__________________________________________________________________________________________________\n",
      "leaky_re_lu_7 (LeakyReLU)       (None, 64, 32, 32, 3 0           instance_normalization_7[0][0]   \n",
      "__________________________________________________________________________________________________\n",
      "conv3d_8 (Conv3D)               (None, 64, 32, 32, 3 110656      leaky_re_lu_7[0][0]              \n",
      "__________________________________________________________________________________________________\n",
      "instance_normalization_8 (Insta (None, 64, 32, 32, 3 128         conv3d_8[0][0]                   \n",
      "__________________________________________________________________________________________________\n",
      "leaky_re_lu_8 (LeakyReLU)       (None, 64, 32, 32, 3 0           instance_normalization_8[0][0]   \n",
      "__________________________________________________________________________________________________\n",
      "spatial_dropout3d_3 (SpatialDro (None, 64, 32, 32, 3 0           leaky_re_lu_8[0][0]              \n",
      "__________________________________________________________________________________________________\n",
      "conv3d_9 (Conv3D)               (None, 64, 32, 32, 3 110656      spatial_dropout3d_3[0][0]        \n",
      "__________________________________________________________________________________________________\n",
      "instance_normalization_9 (Insta (None, 64, 32, 32, 3 128         conv3d_9[0][0]                   \n",
      "__________________________________________________________________________________________________\n",
      "leaky_re_lu_9 (LeakyReLU)       (None, 64, 32, 32, 3 0           instance_normalization_9[0][0]   \n",
      "__________________________________________________________________________________________________\n",
      "add_3 (Add)                     (None, 64, 32, 32, 3 0           leaky_re_lu_7[0][0]              \n",
      "                                                                 leaky_re_lu_9[0][0]              \n",
      "__________________________________________________________________________________________________\n",
      "conv3d_10 (Conv3D)              (None, 128, 16, 16,  221312      add_3[0][0]                      \n",
      "__________________________________________________________________________________________________\n",
      "instance_normalization_10 (Inst (None, 128, 16, 16,  256         conv3d_10[0][0]                  \n",
      "__________________________________________________________________________________________________\n",
      "leaky_re_lu_10 (LeakyReLU)      (None, 128, 16, 16,  0           instance_normalization_10[0][0]  \n",
      "__________________________________________________________________________________________________\n",
      "conv3d_11 (Conv3D)              (None, 128, 16, 16,  442496      leaky_re_lu_10[0][0]             \n",
      "__________________________________________________________________________________________________\n",
      "instance_normalization_11 (Inst (None, 128, 16, 16,  256         conv3d_11[0][0]                  \n",
      "__________________________________________________________________________________________________\n",
      "leaky_re_lu_11 (LeakyReLU)      (None, 128, 16, 16,  0           instance_normalization_11[0][0]  \n",
      "__________________________________________________________________________________________________\n",
      "spatial_dropout3d_4 (SpatialDro (None, 128, 16, 16,  0           leaky_re_lu_11[0][0]             \n",
      "__________________________________________________________________________________________________\n",
      "conv3d_12 (Conv3D)              (None, 128, 16, 16,  442496      spatial_dropout3d_4[0][0]        \n",
      "__________________________________________________________________________________________________\n",
      "instance_normalization_12 (Inst (None, 128, 16, 16,  256         conv3d_12[0][0]                  \n",
      "__________________________________________________________________________________________________\n",
      "leaky_re_lu_12 (LeakyReLU)      (None, 128, 16, 16,  0           instance_normalization_12[0][0]  \n",
      "__________________________________________________________________________________________________\n",
      "add_4 (Add)                     (None, 128, 16, 16,  0           leaky_re_lu_10[0][0]             \n",
      "                                                                 leaky_re_lu_12[0][0]             \n",
      "__________________________________________________________________________________________________\n",
      "conv3d_13 (Conv3D)              (None, 256, 8, 8, 8) 884992      add_4[0][0]                      \n",
      "__________________________________________________________________________________________________\n",
      "instance_normalization_13 (Inst (None, 256, 8, 8, 8) 512         conv3d_13[0][0]                  \n",
      "__________________________________________________________________________________________________\n",
      "leaky_re_lu_13 (LeakyReLU)      (None, 256, 8, 8, 8) 0           instance_normalization_13[0][0]  \n",
      "__________________________________________________________________________________________________\n",
      "conv3d_14 (Conv3D)              (None, 256, 8, 8, 8) 1769728     leaky_re_lu_13[0][0]             \n",
      "__________________________________________________________________________________________________\n",
      "instance_normalization_14 (Inst (None, 256, 8, 8, 8) 512         conv3d_14[0][0]                  \n",
      "__________________________________________________________________________________________________\n",
      "leaky_re_lu_14 (LeakyReLU)      (None, 256, 8, 8, 8) 0           instance_normalization_14[0][0]  \n",
      "__________________________________________________________________________________________________\n",
      "spatial_dropout3d_5 (SpatialDro (None, 256, 8, 8, 8) 0           leaky_re_lu_14[0][0]             \n",
      "__________________________________________________________________________________________________\n",
      "conv3d_15 (Conv3D)              (None, 256, 8, 8, 8) 1769728     spatial_dropout3d_5[0][0]        \n",
      "__________________________________________________________________________________________________\n",
      "instance_normalization_15 (Inst (None, 256, 8, 8, 8) 512         conv3d_15[0][0]                  \n",
      "__________________________________________________________________________________________________\n",
      "leaky_re_lu_15 (LeakyReLU)      (None, 256, 8, 8, 8) 0           instance_normalization_15[0][0]  \n",
      "__________________________________________________________________________________________________\n",
      "add_5 (Add)                     (None, 256, 8, 8, 8) 0           leaky_re_lu_13[0][0]             \n",
      "                                                                 leaky_re_lu_15[0][0]             \n",
      "__________________________________________________________________________________________________\n",
      "up_sampling3d_1 (UpSampling3D)  (None, 256, 16, 16,  0           add_5[0][0]                      \n",
      "__________________________________________________________________________________________________\n",
      "conv3d_16 (Conv3D)              (None, 128, 16, 16,  884864      up_sampling3d_1[0][0]            \n",
      "__________________________________________________________________________________________________\n",
      "instance_normalization_16 (Inst (None, 128, 16, 16,  256         conv3d_16[0][0]                  \n",
      "__________________________________________________________________________________________________\n",
      "leaky_re_lu_16 (LeakyReLU)      (None, 128, 16, 16,  0           instance_normalization_16[0][0]  \n",
      "__________________________________________________________________________________________________\n",
      "concatenate_1 (Concatenate)     (None, 256, 16, 16,  0           add_4[0][0]                      \n",
      "                                                                 leaky_re_lu_16[0][0]             \n",
      "__________________________________________________________________________________________________\n",
      "conv3d_17 (Conv3D)              (None, 128, 16, 16,  884864      concatenate_1[0][0]              \n",
      "__________________________________________________________________________________________________\n",
      "instance_normalization_17 (Inst (None, 128, 16, 16,  256         conv3d_17[0][0]                  \n",
      "__________________________________________________________________________________________________\n",
      "leaky_re_lu_17 (LeakyReLU)      (None, 128, 16, 16,  0           instance_normalization_17[0][0]  \n",
      "__________________________________________________________________________________________________\n",
      "conv3d_18 (Conv3D)              (None, 128, 16, 16,  16512       leaky_re_lu_17[0][0]             \n",
      "__________________________________________________________________________________________________\n",
      "instance_normalization_18 (Inst (None, 128, 16, 16,  256         conv3d_18[0][0]                  \n",
      "__________________________________________________________________________________________________\n",
      "leaky_re_lu_18 (LeakyReLU)      (None, 128, 16, 16,  0           instance_normalization_18[0][0]  \n",
      "__________________________________________________________________________________________________\n",
      "up_sampling3d_2 (UpSampling3D)  (None, 128, 32, 32,  0           leaky_re_lu_18[0][0]             \n",
      "__________________________________________________________________________________________________\n",
      "conv3d_19 (Conv3D)              (None, 64, 32, 32, 3 221248      up_sampling3d_2[0][0]            \n",
      "__________________________________________________________________________________________________\n",
      "instance_normalization_19 (Inst (None, 64, 32, 32, 3 128         conv3d_19[0][0]                  \n",
      "__________________________________________________________________________________________________\n",
      "leaky_re_lu_19 (LeakyReLU)      (None, 64, 32, 32, 3 0           instance_normalization_19[0][0]  \n",
      "__________________________________________________________________________________________________\n",
      "concatenate_2 (Concatenate)     (None, 128, 32, 32,  0           add_3[0][0]                      \n",
      "                                                                 leaky_re_lu_19[0][0]             \n",
      "__________________________________________________________________________________________________\n",
      "conv3d_20 (Conv3D)              (None, 64, 32, 32, 3 221248      concatenate_2[0][0]              \n",
      "__________________________________________________________________________________________________\n",
      "instance_normalization_20 (Inst (None, 64, 32, 32, 3 128         conv3d_20[0][0]                  \n",
      "__________________________________________________________________________________________________\n",
      "leaky_re_lu_20 (LeakyReLU)      (None, 64, 32, 32, 3 0           instance_normalization_20[0][0]  \n",
      "__________________________________________________________________________________________________\n",
      "conv3d_21 (Conv3D)              (None, 64, 32, 32, 3 4160        leaky_re_lu_20[0][0]             \n",
      "__________________________________________________________________________________________________\n",
      "instance_normalization_21 (Inst (None, 64, 32, 32, 3 128         conv3d_21[0][0]                  \n",
      "__________________________________________________________________________________________________\n",
      "leaky_re_lu_21 (LeakyReLU)      (None, 64, 32, 32, 3 0           instance_normalization_21[0][0]  \n",
      "__________________________________________________________________________________________________\n",
      "up_sampling3d_3 (UpSampling3D)  (None, 64, 64, 64, 6 0           leaky_re_lu_21[0][0]             \n",
      "__________________________________________________________________________________________________\n",
      "conv3d_23 (Conv3D)              (None, 32, 64, 64, 6 55328       up_sampling3d_3[0][0]            \n",
      "__________________________________________________________________________________________________\n",
      "instance_normalization_23 (Inst (None, 32, 64, 64, 6 64          conv3d_23[0][0]                  \n",
      "__________________________________________________________________________________________________\n",
      "leaky_re_lu_23 (LeakyReLU)      (None, 32, 64, 64, 6 0           instance_normalization_23[0][0]  \n",
      "__________________________________________________________________________________________________\n",
      "concatenate_3 (Concatenate)     (None, 64, 64, 64, 6 0           add_2[0][0]                      \n",
      "                                                                 leaky_re_lu_23[0][0]             \n",
      "__________________________________________________________________________________________________\n",
      "conv3d_24 (Conv3D)              (None, 32, 64, 64, 6 55328       concatenate_3[0][0]              \n",
      "__________________________________________________________________________________________________\n",
      "instance_normalization_24 (Inst (None, 32, 64, 64, 6 64          conv3d_24[0][0]                  \n",
      "__________________________________________________________________________________________________\n",
      "leaky_re_lu_24 (LeakyReLU)      (None, 32, 64, 64, 6 0           instance_normalization_24[0][0]  \n",
      "__________________________________________________________________________________________________\n",
      "conv3d_25 (Conv3D)              (None, 32, 64, 64, 6 1056        leaky_re_lu_24[0][0]             \n",
      "__________________________________________________________________________________________________\n",
      "instance_normalization_25 (Inst (None, 32, 64, 64, 6 64          conv3d_25[0][0]                  \n",
      "__________________________________________________________________________________________________\n",
      "leaky_re_lu_25 (LeakyReLU)      (None, 32, 64, 64, 6 0           instance_normalization_25[0][0]  \n",
      "__________________________________________________________________________________________________\n",
      "up_sampling3d_4 (UpSampling3D)  (None, 32, 128, 128, 0           leaky_re_lu_25[0][0]             \n",
      "__________________________________________________________________________________________________\n",
      "conv3d_27 (Conv3D)              (None, 16, 128, 128, 13840       up_sampling3d_4[0][0]            \n",
      "__________________________________________________________________________________________________\n",
      "instance_normalization_27 (Inst (None, 16, 128, 128, 32          conv3d_27[0][0]                  \n",
      "__________________________________________________________________________________________________\n",
      "leaky_re_lu_27 (LeakyReLU)      (None, 16, 128, 128, 0           instance_normalization_27[0][0]  \n",
      "__________________________________________________________________________________________________\n",
      "concatenate_4 (Concatenate)     (None, 32, 128, 128, 0           add_1[0][0]                      \n",
      "                                                                 leaky_re_lu_27[0][0]             \n",
      "__________________________________________________________________________________________________\n",
      "conv3d_28 (Conv3D)              (None, 16, 128, 128, 13840       concatenate_4[0][0]              \n",
      "__________________________________________________________________________________________________\n",
      "instance_normalization_28 (Inst (None, 16, 128, 128, 32          conv3d_28[0][0]                  \n",
      "__________________________________________________________________________________________________\n",
      "leaky_re_lu_28 (LeakyReLU)      (None, 16, 128, 128, 0           instance_normalization_28[0][0]  \n",
      "__________________________________________________________________________________________________\n",
      "conv3d_22 (Conv3D)              (None, 3, 32, 32, 32 195         leaky_re_lu_21[0][0]             \n",
      "__________________________________________________________________________________________________\n",
      "conv3d_29 (Conv3D)              (None, 16, 128, 128, 272         leaky_re_lu_28[0][0]             \n",
      "__________________________________________________________________________________________________\n",
      "instance_normalization_22 (Inst (None, 3, 32, 32, 32 6           conv3d_22[0][0]                  \n",
      "__________________________________________________________________________________________________\n",
      "conv3d_26 (Conv3D)              (None, 3, 64, 64, 64 99          leaky_re_lu_25[0][0]             \n",
      "__________________________________________________________________________________________________\n",
      "instance_normalization_29 (Inst (None, 16, 128, 128, 32          conv3d_29[0][0]                  \n",
      "__________________________________________________________________________________________________\n",
      "leaky_re_lu_22 (LeakyReLU)      (None, 3, 32, 32, 32 0           instance_normalization_22[0][0]  \n",
      "__________________________________________________________________________________________________\n",
      "instance_normalization_26 (Inst (None, 3, 64, 64, 64 6           conv3d_26[0][0]                  \n",
      "__________________________________________________________________________________________________\n",
      "leaky_re_lu_29 (LeakyReLU)      (None, 16, 128, 128, 0           instance_normalization_29[0][0]  \n",
      "__________________________________________________________________________________________________\n",
      "up_sampling3d_5 (UpSampling3D)  (None, 3, 64, 64, 64 0           leaky_re_lu_22[0][0]             \n",
      "__________________________________________________________________________________________________\n",
      "leaky_re_lu_26 (LeakyReLU)      (None, 3, 64, 64, 64 0           instance_normalization_26[0][0]  \n",
      "__________________________________________________________________________________________________\n",
      "conv3d_30 (Conv3D)              (None, 3, 128, 128,  51          leaky_re_lu_29[0][0]             \n",
      "__________________________________________________________________________________________________\n",
      "add_6 (Add)                     (None, 3, 64, 64, 64 0           up_sampling3d_5[0][0]            \n",
      "                                                                 leaky_re_lu_26[0][0]             \n",
      "__________________________________________________________________________________________________\n",
      "instance_normalization_30 (Inst (None, 3, 128, 128,  6           conv3d_30[0][0]                  \n",
      "__________________________________________________________________________________________________\n",
      "up_sampling3d_6 (UpSampling3D)  (None, 3, 128, 128,  0           add_6[0][0]                      \n",
      "__________________________________________________________________________________________________\n",
      "leaky_re_lu_30 (LeakyReLU)      (None, 3, 128, 128,  0           instance_normalization_30[0][0]  \n",
      "__________________________________________________________________________________________________\n",
      "add_7 (Add)                     (None, 3, 128, 128,  0           up_sampling3d_6[0][0]            \n",
      "                                                                 leaky_re_lu_30[0][0]             \n",
      "__________________________________________________________________________________________________\n",
      "activation_1 (Activation)       (None, 3, 128, 128,  0           add_7[0][0]                      \n",
      "==================================================================================================\n",
      "Total params: 8,269,579\n",
      "Trainable params: 8,269,579\n",
      "Non-trainable params: 0\n",
      "__________________________________________________________________________________________________\n"
     ]
    }
   ],
   "source": [
    "model.summary()"
   ]
  },
  {
   "cell_type": "code",
   "execution_count": 71,
   "metadata": {},
   "outputs": [],
   "source": [
    "for layer in Unet_model.layers:\n",
    "    layer.trainable = False"
   ]
  },
  {
   "cell_type": "code",
   "execution_count": 83,
   "metadata": {},
   "outputs": [],
   "source": [
    "from keras.models import Model, Sequential\n",
    "from keras.layers import Dense, Dropout, GlobalAveragePooling3D, MaxPooling3D, LeakyReLU\n",
    "from keras import backend as K\n",
    "from keras import regularizers\n",
    "\n",
    "x = Unet_model.output\n",
    "x = GlobalAveragePooling3D()(x)\n",
    "\n",
    "x = Dense(1024, kernel_regularizer=regularizers.l2(0.01))(x)\n",
    "x = LeakyReLU(alpha=0.05, name='leaky_relu_31')(x)\n",
    "x = Dropout(0.1)(x)\n",
    "\n",
    "x = Dense(512, kernel_regularizer=regularizers.l2(0.01))(x)\n",
    "x = LeakyReLU(alpha=0.05, name='leaky_relu_32')(x)\n",
    "x = Dropout(0.1)(x)\n",
    "\n",
    "predictions = Dense(2, activation='softmax')(x)\n",
    "\n",
    "model = Model(inputs=Unet_model.input, outputs=predictions)\n",
    "model.compile(optimizer='rmsprop', loss='categorical_crossentropy', metrics=['accuracy'])"
   ]
  },
  {
   "cell_type": "code",
   "execution_count": 84,
   "metadata": {},
   "outputs": [
    {
     "name": "stdout",
     "output_type": "stream",
     "text": [
      "__________________________________________________________________________________________________\n",
      "Layer (type)                    Output Shape         Param #     Connected to                     \n",
      "==================================================================================================\n",
      "input_1 (InputLayer)            (None, 4, 128, 128,  0                                            \n",
      "__________________________________________________________________________________________________\n",
      "conv3d_1 (Conv3D)               (None, 16, 128, 128, 1744        input_1[0][0]                    \n",
      "__________________________________________________________________________________________________\n",
      "instance_normalization_1 (Insta (None, 16, 128, 128, 32          conv3d_1[0][0]                   \n",
      "__________________________________________________________________________________________________\n",
      "leaky_re_lu_1 (LeakyReLU)       (None, 16, 128, 128, 0           instance_normalization_1[0][0]   \n",
      "__________________________________________________________________________________________________\n",
      "conv3d_2 (Conv3D)               (None, 16, 128, 128, 6928        leaky_re_lu_1[0][0]              \n",
      "__________________________________________________________________________________________________\n",
      "instance_normalization_2 (Insta (None, 16, 128, 128, 32          conv3d_2[0][0]                   \n",
      "__________________________________________________________________________________________________\n",
      "leaky_re_lu_2 (LeakyReLU)       (None, 16, 128, 128, 0           instance_normalization_2[0][0]   \n",
      "__________________________________________________________________________________________________\n",
      "spatial_dropout3d_1 (SpatialDro (None, 16, 128, 128, 0           leaky_re_lu_2[0][0]              \n",
      "__________________________________________________________________________________________________\n",
      "conv3d_3 (Conv3D)               (None, 16, 128, 128, 6928        spatial_dropout3d_1[0][0]        \n",
      "__________________________________________________________________________________________________\n",
      "instance_normalization_3 (Insta (None, 16, 128, 128, 32          conv3d_3[0][0]                   \n",
      "__________________________________________________________________________________________________\n",
      "leaky_re_lu_3 (LeakyReLU)       (None, 16, 128, 128, 0           instance_normalization_3[0][0]   \n",
      "__________________________________________________________________________________________________\n",
      "add_1 (Add)                     (None, 16, 128, 128, 0           leaky_re_lu_1[0][0]              \n",
      "                                                                 leaky_re_lu_3[0][0]              \n",
      "__________________________________________________________________________________________________\n",
      "conv3d_4 (Conv3D)               (None, 32, 64, 64, 6 13856       add_1[0][0]                      \n",
      "__________________________________________________________________________________________________\n",
      "instance_normalization_4 (Insta (None, 32, 64, 64, 6 64          conv3d_4[0][0]                   \n",
      "__________________________________________________________________________________________________\n",
      "leaky_re_lu_4 (LeakyReLU)       (None, 32, 64, 64, 6 0           instance_normalization_4[0][0]   \n",
      "__________________________________________________________________________________________________\n",
      "conv3d_5 (Conv3D)               (None, 32, 64, 64, 6 27680       leaky_re_lu_4[0][0]              \n",
      "__________________________________________________________________________________________________\n",
      "instance_normalization_5 (Insta (None, 32, 64, 64, 6 64          conv3d_5[0][0]                   \n",
      "__________________________________________________________________________________________________\n",
      "leaky_re_lu_5 (LeakyReLU)       (None, 32, 64, 64, 6 0           instance_normalization_5[0][0]   \n",
      "__________________________________________________________________________________________________\n",
      "spatial_dropout3d_2 (SpatialDro (None, 32, 64, 64, 6 0           leaky_re_lu_5[0][0]              \n",
      "__________________________________________________________________________________________________\n",
      "conv3d_6 (Conv3D)               (None, 32, 64, 64, 6 27680       spatial_dropout3d_2[0][0]        \n",
      "__________________________________________________________________________________________________\n",
      "instance_normalization_6 (Insta (None, 32, 64, 64, 6 64          conv3d_6[0][0]                   \n",
      "__________________________________________________________________________________________________\n",
      "leaky_re_lu_6 (LeakyReLU)       (None, 32, 64, 64, 6 0           instance_normalization_6[0][0]   \n",
      "__________________________________________________________________________________________________\n",
      "add_2 (Add)                     (None, 32, 64, 64, 6 0           leaky_re_lu_4[0][0]              \n",
      "                                                                 leaky_re_lu_6[0][0]              \n",
      "__________________________________________________________________________________________________\n",
      "conv3d_7 (Conv3D)               (None, 64, 32, 32, 3 55360       add_2[0][0]                      \n",
      "__________________________________________________________________________________________________\n",
      "instance_normalization_7 (Insta (None, 64, 32, 32, 3 128         conv3d_7[0][0]                   \n",
      "__________________________________________________________________________________________________\n",
      "leaky_re_lu_7 (LeakyReLU)       (None, 64, 32, 32, 3 0           instance_normalization_7[0][0]   \n",
      "__________________________________________________________________________________________________\n",
      "conv3d_8 (Conv3D)               (None, 64, 32, 32, 3 110656      leaky_re_lu_7[0][0]              \n",
      "__________________________________________________________________________________________________\n",
      "instance_normalization_8 (Insta (None, 64, 32, 32, 3 128         conv3d_8[0][0]                   \n",
      "__________________________________________________________________________________________________\n",
      "leaky_re_lu_8 (LeakyReLU)       (None, 64, 32, 32, 3 0           instance_normalization_8[0][0]   \n",
      "__________________________________________________________________________________________________\n",
      "spatial_dropout3d_3 (SpatialDro (None, 64, 32, 32, 3 0           leaky_re_lu_8[0][0]              \n",
      "__________________________________________________________________________________________________\n",
      "conv3d_9 (Conv3D)               (None, 64, 32, 32, 3 110656      spatial_dropout3d_3[0][0]        \n",
      "__________________________________________________________________________________________________\n",
      "instance_normalization_9 (Insta (None, 64, 32, 32, 3 128         conv3d_9[0][0]                   \n",
      "__________________________________________________________________________________________________\n",
      "leaky_re_lu_9 (LeakyReLU)       (None, 64, 32, 32, 3 0           instance_normalization_9[0][0]   \n",
      "__________________________________________________________________________________________________\n",
      "add_3 (Add)                     (None, 64, 32, 32, 3 0           leaky_re_lu_7[0][0]              \n",
      "                                                                 leaky_re_lu_9[0][0]              \n",
      "__________________________________________________________________________________________________\n",
      "conv3d_10 (Conv3D)              (None, 128, 16, 16,  221312      add_3[0][0]                      \n",
      "__________________________________________________________________________________________________\n",
      "instance_normalization_10 (Inst (None, 128, 16, 16,  256         conv3d_10[0][0]                  \n",
      "__________________________________________________________________________________________________\n",
      "leaky_re_lu_10 (LeakyReLU)      (None, 128, 16, 16,  0           instance_normalization_10[0][0]  \n",
      "__________________________________________________________________________________________________\n",
      "conv3d_11 (Conv3D)              (None, 128, 16, 16,  442496      leaky_re_lu_10[0][0]             \n",
      "__________________________________________________________________________________________________\n",
      "instance_normalization_11 (Inst (None, 128, 16, 16,  256         conv3d_11[0][0]                  \n",
      "__________________________________________________________________________________________________\n",
      "leaky_re_lu_11 (LeakyReLU)      (None, 128, 16, 16,  0           instance_normalization_11[0][0]  \n",
      "__________________________________________________________________________________________________\n",
      "spatial_dropout3d_4 (SpatialDro (None, 128, 16, 16,  0           leaky_re_lu_11[0][0]             \n",
      "__________________________________________________________________________________________________\n",
      "conv3d_12 (Conv3D)              (None, 128, 16, 16,  442496      spatial_dropout3d_4[0][0]        \n",
      "__________________________________________________________________________________________________\n",
      "instance_normalization_12 (Inst (None, 128, 16, 16,  256         conv3d_12[0][0]                  \n",
      "__________________________________________________________________________________________________\n",
      "leaky_re_lu_12 (LeakyReLU)      (None, 128, 16, 16,  0           instance_normalization_12[0][0]  \n",
      "__________________________________________________________________________________________________\n",
      "add_4 (Add)                     (None, 128, 16, 16,  0           leaky_re_lu_10[0][0]             \n",
      "                                                                 leaky_re_lu_12[0][0]             \n",
      "__________________________________________________________________________________________________\n",
      "conv3d_13 (Conv3D)              (None, 256, 8, 8, 8) 884992      add_4[0][0]                      \n",
      "__________________________________________________________________________________________________\n",
      "instance_normalization_13 (Inst (None, 256, 8, 8, 8) 512         conv3d_13[0][0]                  \n",
      "__________________________________________________________________________________________________\n",
      "leaky_re_lu_13 (LeakyReLU)      (None, 256, 8, 8, 8) 0           instance_normalization_13[0][0]  \n",
      "__________________________________________________________________________________________________\n",
      "conv3d_14 (Conv3D)              (None, 256, 8, 8, 8) 1769728     leaky_re_lu_13[0][0]             \n",
      "__________________________________________________________________________________________________\n",
      "instance_normalization_14 (Inst (None, 256, 8, 8, 8) 512         conv3d_14[0][0]                  \n",
      "__________________________________________________________________________________________________\n",
      "leaky_re_lu_14 (LeakyReLU)      (None, 256, 8, 8, 8) 0           instance_normalization_14[0][0]  \n",
      "__________________________________________________________________________________________________\n",
      "spatial_dropout3d_5 (SpatialDro (None, 256, 8, 8, 8) 0           leaky_re_lu_14[0][0]             \n",
      "__________________________________________________________________________________________________\n",
      "conv3d_15 (Conv3D)              (None, 256, 8, 8, 8) 1769728     spatial_dropout3d_5[0][0]        \n",
      "__________________________________________________________________________________________________\n",
      "instance_normalization_15 (Inst (None, 256, 8, 8, 8) 512         conv3d_15[0][0]                  \n",
      "__________________________________________________________________________________________________\n",
      "leaky_re_lu_15 (LeakyReLU)      (None, 256, 8, 8, 8) 0           instance_normalization_15[0][0]  \n",
      "__________________________________________________________________________________________________\n",
      "add_5 (Add)                     (None, 256, 8, 8, 8) 0           leaky_re_lu_13[0][0]             \n",
      "                                                                 leaky_re_lu_15[0][0]             \n",
      "__________________________________________________________________________________________________\n",
      "up_sampling3d_1 (UpSampling3D)  (None, 256, 16, 16,  0           add_5[0][0]                      \n",
      "__________________________________________________________________________________________________\n",
      "conv3d_16 (Conv3D)              (None, 128, 16, 16,  884864      up_sampling3d_1[0][0]            \n",
      "__________________________________________________________________________________________________\n",
      "instance_normalization_16 (Inst (None, 128, 16, 16,  256         conv3d_16[0][0]                  \n",
      "__________________________________________________________________________________________________\n",
      "leaky_re_lu_16 (LeakyReLU)      (None, 128, 16, 16,  0           instance_normalization_16[0][0]  \n",
      "__________________________________________________________________________________________________\n",
      "concatenate_1 (Concatenate)     (None, 256, 16, 16,  0           add_4[0][0]                      \n",
      "                                                                 leaky_re_lu_16[0][0]             \n",
      "__________________________________________________________________________________________________\n",
      "conv3d_17 (Conv3D)              (None, 128, 16, 16,  884864      concatenate_1[0][0]              \n",
      "__________________________________________________________________________________________________\n",
      "instance_normalization_17 (Inst (None, 128, 16, 16,  256         conv3d_17[0][0]                  \n",
      "__________________________________________________________________________________________________\n",
      "leaky_re_lu_17 (LeakyReLU)      (None, 128, 16, 16,  0           instance_normalization_17[0][0]  \n",
      "__________________________________________________________________________________________________\n",
      "conv3d_18 (Conv3D)              (None, 128, 16, 16,  16512       leaky_re_lu_17[0][0]             \n",
      "__________________________________________________________________________________________________\n",
      "instance_normalization_18 (Inst (None, 128, 16, 16,  256         conv3d_18[0][0]                  \n",
      "__________________________________________________________________________________________________\n",
      "leaky_re_lu_18 (LeakyReLU)      (None, 128, 16, 16,  0           instance_normalization_18[0][0]  \n",
      "__________________________________________________________________________________________________\n",
      "up_sampling3d_2 (UpSampling3D)  (None, 128, 32, 32,  0           leaky_re_lu_18[0][0]             \n",
      "__________________________________________________________________________________________________\n",
      "conv3d_19 (Conv3D)              (None, 64, 32, 32, 3 221248      up_sampling3d_2[0][0]            \n",
      "__________________________________________________________________________________________________\n",
      "instance_normalization_19 (Inst (None, 64, 32, 32, 3 128         conv3d_19[0][0]                  \n",
      "__________________________________________________________________________________________________\n",
      "leaky_re_lu_19 (LeakyReLU)      (None, 64, 32, 32, 3 0           instance_normalization_19[0][0]  \n",
      "__________________________________________________________________________________________________\n",
      "concatenate_2 (Concatenate)     (None, 128, 32, 32,  0           add_3[0][0]                      \n",
      "                                                                 leaky_re_lu_19[0][0]             \n",
      "__________________________________________________________________________________________________\n",
      "conv3d_20 (Conv3D)              (None, 64, 32, 32, 3 221248      concatenate_2[0][0]              \n",
      "__________________________________________________________________________________________________\n",
      "instance_normalization_20 (Inst (None, 64, 32, 32, 3 128         conv3d_20[0][0]                  \n",
      "__________________________________________________________________________________________________\n",
      "leaky_re_lu_20 (LeakyReLU)      (None, 64, 32, 32, 3 0           instance_normalization_20[0][0]  \n",
      "__________________________________________________________________________________________________\n",
      "conv3d_21 (Conv3D)              (None, 64, 32, 32, 3 4160        leaky_re_lu_20[0][0]             \n",
      "__________________________________________________________________________________________________\n",
      "instance_normalization_21 (Inst (None, 64, 32, 32, 3 128         conv3d_21[0][0]                  \n",
      "__________________________________________________________________________________________________\n",
      "leaky_re_lu_21 (LeakyReLU)      (None, 64, 32, 32, 3 0           instance_normalization_21[0][0]  \n",
      "__________________________________________________________________________________________________\n",
      "up_sampling3d_3 (UpSampling3D)  (None, 64, 64, 64, 6 0           leaky_re_lu_21[0][0]             \n",
      "__________________________________________________________________________________________________\n",
      "conv3d_23 (Conv3D)              (None, 32, 64, 64, 6 55328       up_sampling3d_3[0][0]            \n",
      "__________________________________________________________________________________________________\n",
      "instance_normalization_23 (Inst (None, 32, 64, 64, 6 64          conv3d_23[0][0]                  \n",
      "__________________________________________________________________________________________________\n",
      "leaky_re_lu_23 (LeakyReLU)      (None, 32, 64, 64, 6 0           instance_normalization_23[0][0]  \n",
      "__________________________________________________________________________________________________\n",
      "concatenate_3 (Concatenate)     (None, 64, 64, 64, 6 0           add_2[0][0]                      \n",
      "                                                                 leaky_re_lu_23[0][0]             \n",
      "__________________________________________________________________________________________________\n",
      "conv3d_24 (Conv3D)              (None, 32, 64, 64, 6 55328       concatenate_3[0][0]              \n",
      "__________________________________________________________________________________________________\n",
      "instance_normalization_24 (Inst (None, 32, 64, 64, 6 64          conv3d_24[0][0]                  \n",
      "__________________________________________________________________________________________________\n",
      "leaky_re_lu_24 (LeakyReLU)      (None, 32, 64, 64, 6 0           instance_normalization_24[0][0]  \n",
      "__________________________________________________________________________________________________\n",
      "conv3d_25 (Conv3D)              (None, 32, 64, 64, 6 1056        leaky_re_lu_24[0][0]             \n",
      "__________________________________________________________________________________________________\n",
      "instance_normalization_25 (Inst (None, 32, 64, 64, 6 64          conv3d_25[0][0]                  \n",
      "__________________________________________________________________________________________________\n",
      "leaky_re_lu_25 (LeakyReLU)      (None, 32, 64, 64, 6 0           instance_normalization_25[0][0]  \n",
      "__________________________________________________________________________________________________\n",
      "up_sampling3d_4 (UpSampling3D)  (None, 32, 128, 128, 0           leaky_re_lu_25[0][0]             \n",
      "__________________________________________________________________________________________________\n",
      "conv3d_27 (Conv3D)              (None, 16, 128, 128, 13840       up_sampling3d_4[0][0]            \n",
      "__________________________________________________________________________________________________\n",
      "instance_normalization_27 (Inst (None, 16, 128, 128, 32          conv3d_27[0][0]                  \n",
      "__________________________________________________________________________________________________\n",
      "leaky_re_lu_27 (LeakyReLU)      (None, 16, 128, 128, 0           instance_normalization_27[0][0]  \n",
      "__________________________________________________________________________________________________\n",
      "concatenate_4 (Concatenate)     (None, 32, 128, 128, 0           add_1[0][0]                      \n",
      "                                                                 leaky_re_lu_27[0][0]             \n",
      "__________________________________________________________________________________________________\n",
      "conv3d_28 (Conv3D)              (None, 16, 128, 128, 13840       concatenate_4[0][0]              \n",
      "__________________________________________________________________________________________________\n",
      "instance_normalization_28 (Inst (None, 16, 128, 128, 32          conv3d_28[0][0]                  \n",
      "__________________________________________________________________________________________________\n",
      "leaky_re_lu_28 (LeakyReLU)      (None, 16, 128, 128, 0           instance_normalization_28[0][0]  \n",
      "__________________________________________________________________________________________________\n",
      "conv3d_22 (Conv3D)              (None, 3, 32, 32, 32 195         leaky_re_lu_21[0][0]             \n",
      "__________________________________________________________________________________________________\n",
      "conv3d_29 (Conv3D)              (None, 16, 128, 128, 272         leaky_re_lu_28[0][0]             \n",
      "__________________________________________________________________________________________________\n",
      "instance_normalization_22 (Inst (None, 3, 32, 32, 32 6           conv3d_22[0][0]                  \n",
      "__________________________________________________________________________________________________\n",
      "conv3d_26 (Conv3D)              (None, 3, 64, 64, 64 99          leaky_re_lu_25[0][0]             \n",
      "__________________________________________________________________________________________________\n",
      "instance_normalization_29 (Inst (None, 16, 128, 128, 32          conv3d_29[0][0]                  \n",
      "__________________________________________________________________________________________________\n",
      "leaky_re_lu_22 (LeakyReLU)      (None, 3, 32, 32, 32 0           instance_normalization_22[0][0]  \n",
      "__________________________________________________________________________________________________\n",
      "instance_normalization_26 (Inst (None, 3, 64, 64, 64 6           conv3d_26[0][0]                  \n",
      "__________________________________________________________________________________________________\n",
      "leaky_re_lu_29 (LeakyReLU)      (None, 16, 128, 128, 0           instance_normalization_29[0][0]  \n",
      "__________________________________________________________________________________________________\n",
      "up_sampling3d_5 (UpSampling3D)  (None, 3, 64, 64, 64 0           leaky_re_lu_22[0][0]             \n",
      "__________________________________________________________________________________________________\n",
      "leaky_re_lu_26 (LeakyReLU)      (None, 3, 64, 64, 64 0           instance_normalization_26[0][0]  \n",
      "__________________________________________________________________________________________________\n",
      "conv3d_30 (Conv3D)              (None, 3, 128, 128,  51          leaky_re_lu_29[0][0]             \n",
      "__________________________________________________________________________________________________\n",
      "add_6 (Add)                     (None, 3, 64, 64, 64 0           up_sampling3d_5[0][0]            \n",
      "                                                                 leaky_re_lu_26[0][0]             \n",
      "__________________________________________________________________________________________________\n",
      "instance_normalization_30 (Inst (None, 3, 128, 128,  6           conv3d_30[0][0]                  \n",
      "__________________________________________________________________________________________________\n",
      "up_sampling3d_6 (UpSampling3D)  (None, 3, 128, 128,  0           add_6[0][0]                      \n",
      "__________________________________________________________________________________________________\n",
      "leaky_re_lu_30 (LeakyReLU)      (None, 3, 128, 128,  0           instance_normalization_30[0][0]  \n",
      "__________________________________________________________________________________________________\n",
      "add_7 (Add)                     (None, 3, 128, 128,  0           up_sampling3d_6[0][0]            \n",
      "                                                                 leaky_re_lu_30[0][0]             \n",
      "__________________________________________________________________________________________________\n",
      "activation_1 (Activation)       (None, 3, 128, 128,  0           add_7[0][0]                      \n",
      "__________________________________________________________________________________________________\n",
      "global_average_pooling3d_10 (Gl (None, 128)          0           activation_1[0][0]               \n",
      "__________________________________________________________________________________________________\n",
      "dense_17 (Dense)                (None, 1024)         132096      global_average_pooling3d_10[0][0]\n",
      "__________________________________________________________________________________________________\n",
      "leaky_relu_31 (LeakyReLU)       (None, 1024)         0           dense_17[0][0]                   \n",
      "__________________________________________________________________________________________________\n",
      "dropout_8 (Dropout)             (None, 1024)         0           leaky_relu_31[0][0]              \n",
      "__________________________________________________________________________________________________\n",
      "dense_18 (Dense)                (None, 512)          524800      dropout_8[0][0]                  \n",
      "__________________________________________________________________________________________________\n",
      "leaky_relu_32 (LeakyReLU)       (None, 512)          0           dense_18[0][0]                   \n",
      "__________________________________________________________________________________________________\n",
      "dropout_9 (Dropout)             (None, 512)          0           leaky_relu_32[0][0]              \n",
      "__________________________________________________________________________________________________\n",
      "dense_19 (Dense)                (None, 2)            1026        dropout_9[0][0]                  \n",
      "==================================================================================================\n",
      "Total params: 8,927,501\n",
      "Trainable params: 657,922\n",
      "Non-trainable params: 8,269,579\n",
      "__________________________________________________________________________________________________\n"
     ]
    }
   ],
   "source": [
    "model.summary()"
   ]
  },
  {
   "cell_type": "code",
   "execution_count": null,
   "metadata": {},
   "outputs": [],
   "source": [
    "from keras.preprocessing.image import ImageDataGenerator\n",
    "\n",
    "# Batch size\n",
    "bs = 32\n",
    "\n",
    "# Number of models to ensemble\n",
    "num_models = 4\n",
    "\n",
    "# All images will be resized to this value\n",
    "image_size = (299, 299)\n",
    "\n",
    "# All images will be rescaled by 1./255. We apply data augmentation here.\n",
    "train_datagen = ImageDataGenerator(rescale=1./255,\n",
    "                                   brightness_range= [0.4,1.6],\n",
    "                                   horizontal_flip=True,\n",
    "                                   shear_range=0.3,\n",
    "                                   zoom_range=0.3,\n",
    "                                   rotation_range=50,\n",
    "                                   width_shift_range=0.25,\n",
    "                                   height_shift_range=0.25,\n",
    "                                   preprocessing_function=get_random_eraser(v_l=0, v_h=1),\n",
    "                                   fill_mode='nearest')\n",
    "\n",
    "val_datagen = ImageDataGenerator(rescale=1./255)\n",
    "\n",
    "def generate_generator_multiple(generator, num_model, directory, bs, image_size):\n",
    "  generator1 = generator.flow_from_directory(\n",
    "      directory= directory, # This is the source directory for training images \n",
    "      target_size=image_size, # All images will be resized to value set in image_size\n",
    "      batch_size=bs,\n",
    "      class_mode='categorical')\n",
    "  \n",
    "  while True:\n",
    "    generator = generator1.next()\n",
    "    x_input = []\n",
    "    \n",
    "    for i in range(num_model):\n",
    "      x_input.append(generator[0])\n",
    "    \n",
    "    y_input = generator[1]\n",
    "    \n",
    "    yield x_input, y_input  #Yield both images and their mutual label\n",
    "\n",
    "# Flow training images in batches of 32 using train_datagen generator\n",
    "print(\"Preparing generator for train dataset\")\n",
    "train_generator = generate_generator_multiple(train_datagen, num_models, train_folder, bs, image_size)\n",
    "\n",
    "# Flow validation images in batches of 32 using val_datagen generator\n",
    "print(\"Preparing generator for validation dataset\")\n",
    "val_generator = generate_generator_multiple(val_datagen, num_models, val_folder, bs, image_size)"
   ]
  },
  {
   "cell_type": "code",
   "execution_count": 85,
   "metadata": {},
   "outputs": [],
   "source": [
    "from keras.callbacks import ModelCheckpoint\n",
    "\n",
    "bestValidationCheckpointer = ModelCheckpoint('Unet_transfer_learn.hdf5', monitor='val_acc', save_best_only=True, verbose=1)"
   ]
  },
  {
   "cell_type": "code",
   "execution_count": 34,
   "metadata": {},
   "outputs": [
    {
     "name": "stdout",
     "output_type": "stream",
     "text": [
      "Collecting nilearn\n",
      "\u001b[?25l  Downloading https://files.pythonhosted.org/packages/6e/65/ba76e7cd544dafc28960e60b099d6f906a2096034c560158beaf2ff299bc/nilearn-0.5.2-py2.py3-none-any.whl (2.3MB)\n",
      "\u001b[K    100% |████████████████████████████████| 2.4MB 16.2MB/s ta 0:00:01\n",
      "\u001b[?25hRequirement already satisfied: nibabel>=2.0.2 in /home/ec2-user/anaconda3/envs/tensorflow_p36/lib/python3.6/site-packages (from nilearn) (2.5.1)\n",
      "Requirement already satisfied: numpy>=1.8 in /home/ec2-user/anaconda3/envs/tensorflow_p36/lib/python3.6/site-packages (from nibabel>=2.0.2->nilearn) (1.16.4)\n",
      "Requirement already satisfied: six>=1.3 in /home/ec2-user/anaconda3/envs/tensorflow_p36/lib/python3.6/site-packages (from nibabel>=2.0.2->nilearn) (1.11.0)\n",
      "Installing collected packages: nilearn\n",
      "Successfully installed nilearn-0.5.2\n",
      "\u001b[33mYou are using pip version 10.0.1, however version 19.3.1 is available.\n",
      "You should consider upgrading via the 'pip install --upgrade pip' command.\u001b[0m\n"
     ]
    }
   ],
   "source": [
    "history = model.fit_generator(\n",
    "        train_generator, # train generator has 973 train images\n",
    "        steps_per_epoch=1092 // bs + 1,\n",
    "        epochs=100,\n",
    "        validation_data=val_generator, # validation generator has 253 validation images\n",
    "        validation_steps=253 // bs + 1,\n",
    "        callbacks=[bestValidationCheckpointer]\n",
    ")"
   ]
  },
  {
   "cell_type": "code",
   "execution_count": 162,
   "metadata": {},
   "outputs": [],
   "source": [
    "import os\n",
    "\n",
    "import nibabel as nib\n",
    "import numpy as np\n",
    "import tables\n",
    "\n",
    "# from .training import load_old_model\n",
    "# from .utils import pickle_load\n",
    "# from .utils.patches import reconstruct_from_patches, get_patch_from_3d_data, compute_patch_indices\n",
    "# from .augment import permute_data, generate_permutation_keys, reverse_permute_data\n",
    "\n",
    "\n",
    "def patch_wise_prediction(model, data, overlap=0, batch_size=1, permute=False):\n",
    "    \"\"\"\n",
    "    :param batch_size:\n",
    "    :param model:\n",
    "    :param data:\n",
    "    :param overlap:\n",
    "    :return:\n",
    "    \"\"\"\n",
    "    patch_shape = tuple([int(dim) for dim in model.input.shape[-3:]])\n",
    "    predictions = list()\n",
    "    indices = compute_patch_indices(data.shape[-3:], patch_size=patch_shape, overlap=overlap)\n",
    "    batch = list()\n",
    "    i = 0\n",
    "    while i < len(indices):\n",
    "        while len(batch) < batch_size:\n",
    "            patch = get_patch_from_3d_data(data[0], patch_shape=patch_shape, patch_index=indices[i])\n",
    "            batch.append(patch)\n",
    "            i += 1\n",
    "        prediction = predict(model, np.asarray(batch), permute=permute)\n",
    "        batch = list()\n",
    "        for predicted_patch in prediction:\n",
    "            predictions.append(predicted_patch)\n",
    "    output_shape = [int(model.output.shape[1])] + list(data.shape[-3:])\n",
    "    return reconstruct_from_patches(predictions, patch_indices=indices, data_shape=output_shape)\n",
    "\n",
    "\n",
    "def get_prediction_labels(prediction, threshold=0.5, labels=None):\n",
    "    n_samples = prediction.shape[0]\n",
    "    label_arrays = []\n",
    "    for sample_number in range(n_samples):\n",
    "        label_data = np.argmax(prediction[sample_number], axis=0) + 1\n",
    "        label_data[np.max(prediction[sample_number], axis=0) < threshold] = 0\n",
    "        if labels:\n",
    "            for value in np.unique(label_data).tolist()[1:]:\n",
    "                label_data[label_data == value] = labels[value - 1]\n",
    "        label_arrays.append(np.array(label_data, dtype=np.uint8))\n",
    "    return label_arrays\n",
    "\n",
    "\n",
    "def get_test_indices(testing_file):\n",
    "    return pickle_load(testing_file)\n",
    "\n",
    "\n",
    "def predict_from_data_file(model, open_data_file, index):\n",
    "    return model.predict(open_data_file.root.data[index])\n",
    "\n",
    "\n",
    "def predict_and_get_image(model, data, affine):\n",
    "    return nib.Nifti1Image(model.predict(data)[0, 0], affine)\n",
    "\n",
    "\n",
    "def predict_from_data_file_and_get_image(model, open_data_file, index):\n",
    "    return predict_and_get_image(model, open_data_file.root.data[index], open_data_file.root.affine)\n",
    "\n",
    "\n",
    "def predict_from_data_file_and_write_image(model, open_data_file, index, out_file):\n",
    "    image = predict_from_data_file_and_get_image(model, open_data_file, index)\n",
    "    image.to_filename(out_file)\n",
    "\n",
    "\n",
    "def prediction_to_image(prediction, affine, label_map=False, threshold=0.5, labels=None):\n",
    "    if prediction.shape[1] == 1:\n",
    "        data = prediction[0, 0]\n",
    "        if label_map:\n",
    "            label_map_data = np.zeros(prediction[0, 0].shape, np.int8)\n",
    "            if labels:\n",
    "                label = labels[0]\n",
    "            else:\n",
    "                label = 1\n",
    "            label_map_data[data > threshold] = label\n",
    "            data = label_map_data\n",
    "    elif prediction.shape[1] > 1:\n",
    "        if label_map:\n",
    "            label_map_data = get_prediction_labels(prediction, threshold=threshold, labels=labels)\n",
    "            data = label_map_data[0]\n",
    "        else:\n",
    "            return multi_class_prediction(prediction, affine)\n",
    "    else:\n",
    "        raise RuntimeError(\"Invalid prediction array shape: {0}\".format(prediction.shape))\n",
    "    return nib.Nifti1Image(data, affine)\n",
    "\n",
    "\n",
    "def multi_class_prediction(prediction, affine):\n",
    "    prediction_images = []\n",
    "    for i in range(prediction.shape[1]):\n",
    "        prediction_images.append(nib.Nifti1Image(prediction[0, i], affine))\n",
    "    return prediction_images\n",
    "\n",
    "\n",
    "def run_validation_case(data_index, output_dir, model, data_file, training_modalities,\n",
    "                        output_label_map=False, threshold=0.5, labels=None, overlap=16, permute=False):\n",
    "    \"\"\"\n",
    "    Runs a test case and writes predicted images to file.\n",
    "    :param data_index: Index from of the list of test cases to get an image prediction from.\n",
    "    :param output_dir: Where to write prediction images.\n",
    "    :param output_label_map: If True, will write out a single image with one or more labels. Otherwise outputs\n",
    "    the (sigmoid) prediction values from the model.\n",
    "    :param threshold: If output_label_map is set to True, this threshold defines the value above which is \n",
    "    considered a positive result and will be assigned a label.  \n",
    "    :param labels:\n",
    "    :param training_modalities:\n",
    "    :param data_file:\n",
    "    :param model:\n",
    "    \"\"\"\n",
    "    if not os.path.exists(output_dir):\n",
    "        os.makedirs(output_dir)\n",
    "\n",
    "    affine = data_file.root.affine[data_index]\n",
    "    test_data = np.asarray([data_file.root.data[data_index]])\n",
    "    for i, modality in enumerate(training_modalities):\n",
    "        image = nib.Nifti1Image(test_data[0, i], affine)\n",
    "        image.to_filename(os.path.join(output_dir, \"data_{0}.nii.gz\".format(modality)))\n",
    "\n",
    "    test_truth = nib.Nifti1Image(data_file.root.truth[data_index][0], affine)\n",
    "    test_truth.to_filename(os.path.join(output_dir, \"truth.nii.gz\"))\n",
    "\n",
    "    patch_shape = tuple([int(dim) for dim in model.input.shape[-3:]])\n",
    "    if patch_shape == test_data.shape[-3:]:\n",
    "        prediction = predict(model, test_data, permute=permute)\n",
    "    else:\n",
    "        prediction = patch_wise_prediction(model=model, data=test_data, overlap=overlap, permute=permute)[np.newaxis]\n",
    "    prediction_image = prediction_to_image(prediction, affine, label_map=output_label_map, threshold=threshold,\n",
    "                                           labels=labels)\n",
    "    if isinstance(prediction_image, list):\n",
    "        for i, image in enumerate(prediction_image):\n",
    "            image.to_filename(os.path.join(output_dir, \"prediction_{0}.nii.gz\".format(i + 1)))\n",
    "    else:\n",
    "        prediction_image.to_filename(os.path.join(output_dir, \"prediction.nii.gz\"))\n",
    "\n",
    "\n",
    "def run_validation_cases(validation_keys_file, model_file, training_modalities, labels, hdf5_file,\n",
    "                         output_label_map=False, output_dir=\".\", threshold=0.5, overlap=16, permute=False):\n",
    "    validation_indices = pickle_load(validation_keys_file)\n",
    "    model = load_old_model(model_file)\n",
    "    data_file = tables.open_file(hdf5_file, \"r\")\n",
    "    for index in validation_indices:\n",
    "        if 'subject_ids' in data_file.root:\n",
    "            case_directory = os.path.join(output_dir, data_file.root.subject_ids[index].decode('utf-8'))\n",
    "        else:\n",
    "            case_directory = os.path.join(output_dir, \"validation_case_{}\".format(index))\n",
    "        run_validation_case(data_index=index, output_dir=case_directory, model=model, data_file=data_file,\n",
    "                            training_modalities=training_modalities, output_label_map=output_label_map, labels=labels,\n",
    "                            threshold=threshold, overlap=overlap, permute=permute)\n",
    "    data_file.close()\n",
    "\n",
    "\n",
    "def predict(model, data, permute=False):\n",
    "    if permute:\n",
    "        predictions = list()\n",
    "        for batch_index in range(data.shape[0]):\n",
    "            predictions.append(predict_with_permutations(model, data[batch_index]))\n",
    "        return np.asarray(predictions)\n",
    "    else:\n",
    "        return model.predict(data)\n",
    "\n",
    "\n",
    "def predict_with_permutations(model, data):\n",
    "    predictions = list()\n",
    "    for permutation_key in generate_permutation_keys():\n",
    "        temp_data = permute_data(data, permutation_key)[np.newaxis]\n",
    "        predictions.append(reverse_permute_data(model.predict(temp_data)[0], permutation_key))\n",
    "    return np.mean(predictions, axis=0)"
   ]
  },
  {
   "cell_type": "code",
   "execution_count": 161,
   "metadata": {},
   "outputs": [
    {
     "data": {
      "text/plain": [
       "<tf.Tensor 'activation_1/Sigmoid:0' shape=(?, 3, 128, 128, 128) dtype=float32>"
      ]
     },
     "execution_count": 161,
     "metadata": {},
     "output_type": "execute_result"
    }
   ],
   "source": [
    "Unet_model.output"
   ]
  },
  {
   "cell_type": "code",
   "execution_count": 175,
   "metadata": {},
   "outputs": [
    {
     "ename": "FileNotFoundError",
     "evalue": "[Errno 2] No such file or directory: './data/practice_input.npy'",
     "output_type": "error",
     "traceback": [
      "\u001b[0;31m---------------------------------------------------------------------------\u001b[0m",
      "\u001b[0;31mFileNotFoundError\u001b[0m                         Traceback (most recent call last)",
      "\u001b[0;32m<ipython-input-175-e6d0b696923c>\u001b[0m in \u001b[0;36m<module>\u001b[0;34m()\u001b[0m\n\u001b[0;32m----> 1\u001b[0;31m \u001b[0mdata\u001b[0m \u001b[0;34m=\u001b[0m \u001b[0mnp\u001b[0m\u001b[0;34m.\u001b[0m\u001b[0mload\u001b[0m\u001b[0;34m(\u001b[0m\u001b[0;34m'./data/practice_input.npy'\u001b[0m\u001b[0;34m)\u001b[0m\u001b[0;34m\u001b[0m\u001b[0m\n\u001b[0m\u001b[1;32m      2\u001b[0m \u001b[0mprint\u001b[0m\u001b[0;34m(\u001b[0m\u001b[0mdata\u001b[0m\u001b[0;34m.\u001b[0m\u001b[0mshape\u001b[0m\u001b[0;34m)\u001b[0m\u001b[0;34m\u001b[0m\u001b[0m\n\u001b[1;32m      3\u001b[0m \u001b[0mnp\u001b[0m\u001b[0;34m.\u001b[0m\u001b[0mresize\u001b[0m\u001b[0;34m(\u001b[0m\u001b[0mdata\u001b[0m\u001b[0;34m,\u001b[0m\u001b[0;34m(\u001b[0m\u001b[0;36m1\u001b[0m\u001b[0;34m,\u001b[0m\u001b[0;36m4\u001b[0m\u001b[0;34m,\u001b[0m\u001b[0;36m128\u001b[0m\u001b[0;34m,\u001b[0m\u001b[0;36m128\u001b[0m\u001b[0;34m,\u001b[0m\u001b[0;36m128\u001b[0m\u001b[0;34m)\u001b[0m\u001b[0;34m)\u001b[0m\u001b[0;34m\u001b[0m\u001b[0m\n\u001b[1;32m      4\u001b[0m \u001b[0mdata\u001b[0m\u001b[0;34m.\u001b[0m\u001b[0mshape\u001b[0m\u001b[0;34m\u001b[0m\u001b[0m\n",
      "\u001b[0;32m~/anaconda3/envs/tensorflow_p36/lib/python3.6/site-packages/numpy/lib/npyio.py\u001b[0m in \u001b[0;36mload\u001b[0;34m(file, mmap_mode, allow_pickle, fix_imports, encoding)\u001b[0m\n\u001b[1;32m    420\u001b[0m         \u001b[0mown_fid\u001b[0m \u001b[0;34m=\u001b[0m \u001b[0;32mFalse\u001b[0m\u001b[0;34m\u001b[0m\u001b[0m\n\u001b[1;32m    421\u001b[0m     \u001b[0;32melse\u001b[0m\u001b[0;34m:\u001b[0m\u001b[0;34m\u001b[0m\u001b[0m\n\u001b[0;32m--> 422\u001b[0;31m         \u001b[0mfid\u001b[0m \u001b[0;34m=\u001b[0m \u001b[0mopen\u001b[0m\u001b[0;34m(\u001b[0m\u001b[0mos_fspath\u001b[0m\u001b[0;34m(\u001b[0m\u001b[0mfile\u001b[0m\u001b[0;34m)\u001b[0m\u001b[0;34m,\u001b[0m \u001b[0;34m\"rb\"\u001b[0m\u001b[0;34m)\u001b[0m\u001b[0;34m\u001b[0m\u001b[0m\n\u001b[0m\u001b[1;32m    423\u001b[0m         \u001b[0mown_fid\u001b[0m \u001b[0;34m=\u001b[0m \u001b[0;32mTrue\u001b[0m\u001b[0;34m\u001b[0m\u001b[0m\n\u001b[1;32m    424\u001b[0m \u001b[0;34m\u001b[0m\u001b[0m\n",
      "\u001b[0;31mFileNotFoundError\u001b[0m: [Errno 2] No such file or directory: './data/practice_input.npy'"
     ]
    }
   ],
   "source": [
    "data = np.load('./data/practice_input.npy')\n",
    "print(data.shape)\n",
    "np.resize(data,(1,4,128,128,128))\n",
    "data.shape"
   ]
  },
  {
   "cell_type": "code",
   "execution_count": 171,
   "metadata": {},
   "outputs": [
    {
     "data": {
      "text/plain": [
       "array([[0, 1, 2],\n",
       "       [3, 0, 1]])"
      ]
     },
     "execution_count": 171,
     "metadata": {},
     "output_type": "execute_result"
    }
   ],
   "source": [
    "a=np.array([[0,1],[2,3]])\n",
    "np.resize(a,(2,3))"
   ]
  },
  {
   "cell_type": "code",
   "execution_count": 168,
   "metadata": {},
   "outputs": [
    {
     "ename": "ValueError",
     "evalue": "Error when checking input: expected input_1 to have shape (4, 128, 128, 128) but got array with shape (1, 182, 218, 182)",
     "output_type": "error",
     "traceback": [
      "\u001b[0;31m---------------------------------------------------------------------------\u001b[0m",
      "\u001b[0;31mValueError\u001b[0m                                Traceback (most recent call last)",
      "\u001b[0;32m<ipython-input-168-edc18afb9eb9>\u001b[0m in \u001b[0;36m<module>\u001b[0;34m()\u001b[0m\n\u001b[0;32m----> 1\u001b[0;31m \u001b[0mpredict\u001b[0m\u001b[0;34m(\u001b[0m\u001b[0mUnet_model\u001b[0m\u001b[0;34m,\u001b[0m \u001b[0mdata\u001b[0m\u001b[0;34m)\u001b[0m\u001b[0;34m\u001b[0m\u001b[0m\n\u001b[0m",
      "\u001b[0;32m<ipython-input-162-4fe0b63e06ad>\u001b[0m in \u001b[0;36mpredict\u001b[0;34m(model, data, permute)\u001b[0m\n\u001b[1;32m    164\u001b[0m         \u001b[0;32mreturn\u001b[0m \u001b[0mnp\u001b[0m\u001b[0;34m.\u001b[0m\u001b[0masarray\u001b[0m\u001b[0;34m(\u001b[0m\u001b[0mpredictions\u001b[0m\u001b[0;34m)\u001b[0m\u001b[0;34m\u001b[0m\u001b[0m\n\u001b[1;32m    165\u001b[0m     \u001b[0;32melse\u001b[0m\u001b[0;34m:\u001b[0m\u001b[0;34m\u001b[0m\u001b[0m\n\u001b[0;32m--> 166\u001b[0;31m         \u001b[0;32mreturn\u001b[0m \u001b[0mmodel\u001b[0m\u001b[0;34m.\u001b[0m\u001b[0mpredict\u001b[0m\u001b[0;34m(\u001b[0m\u001b[0mdata\u001b[0m\u001b[0;34m)\u001b[0m\u001b[0;34m\u001b[0m\u001b[0m\n\u001b[0m\u001b[1;32m    167\u001b[0m \u001b[0;34m\u001b[0m\u001b[0m\n\u001b[1;32m    168\u001b[0m \u001b[0;34m\u001b[0m\u001b[0m\n",
      "\u001b[0;32m~/anaconda3/envs/tensorflow_p36/lib/python3.6/site-packages/keras/engine/training.py\u001b[0m in \u001b[0;36mpredict\u001b[0;34m(self, x, batch_size, verbose, steps)\u001b[0m\n\u001b[1;32m   1147\u001b[0m                              'argument.')\n\u001b[1;32m   1148\u001b[0m         \u001b[0;31m# Validate user data.\u001b[0m\u001b[0;34m\u001b[0m\u001b[0;34m\u001b[0m\u001b[0m\n\u001b[0;32m-> 1149\u001b[0;31m         \u001b[0mx\u001b[0m\u001b[0;34m,\u001b[0m \u001b[0m_\u001b[0m\u001b[0;34m,\u001b[0m \u001b[0m_\u001b[0m \u001b[0;34m=\u001b[0m \u001b[0mself\u001b[0m\u001b[0;34m.\u001b[0m\u001b[0m_standardize_user_data\u001b[0m\u001b[0;34m(\u001b[0m\u001b[0mx\u001b[0m\u001b[0;34m)\u001b[0m\u001b[0;34m\u001b[0m\u001b[0m\n\u001b[0m\u001b[1;32m   1150\u001b[0m         \u001b[0;32mif\u001b[0m \u001b[0mself\u001b[0m\u001b[0;34m.\u001b[0m\u001b[0mstateful\u001b[0m\u001b[0;34m:\u001b[0m\u001b[0;34m\u001b[0m\u001b[0m\n\u001b[1;32m   1151\u001b[0m             \u001b[0;32mif\u001b[0m \u001b[0mx\u001b[0m\u001b[0;34m[\u001b[0m\u001b[0;36m0\u001b[0m\u001b[0;34m]\u001b[0m\u001b[0;34m.\u001b[0m\u001b[0mshape\u001b[0m\u001b[0;34m[\u001b[0m\u001b[0;36m0\u001b[0m\u001b[0;34m]\u001b[0m \u001b[0;34m>\u001b[0m \u001b[0mbatch_size\u001b[0m \u001b[0;32mand\u001b[0m \u001b[0mx\u001b[0m\u001b[0;34m[\u001b[0m\u001b[0;36m0\u001b[0m\u001b[0;34m]\u001b[0m\u001b[0;34m.\u001b[0m\u001b[0mshape\u001b[0m\u001b[0;34m[\u001b[0m\u001b[0;36m0\u001b[0m\u001b[0;34m]\u001b[0m \u001b[0;34m%\u001b[0m \u001b[0mbatch_size\u001b[0m \u001b[0;34m!=\u001b[0m \u001b[0;36m0\u001b[0m\u001b[0;34m:\u001b[0m\u001b[0;34m\u001b[0m\u001b[0m\n",
      "\u001b[0;32m~/anaconda3/envs/tensorflow_p36/lib/python3.6/site-packages/keras/engine/training.py\u001b[0m in \u001b[0;36m_standardize_user_data\u001b[0;34m(self, x, y, sample_weight, class_weight, check_array_lengths, batch_size)\u001b[0m\n\u001b[1;32m    749\u001b[0m             \u001b[0mfeed_input_shapes\u001b[0m\u001b[0;34m,\u001b[0m\u001b[0;34m\u001b[0m\u001b[0m\n\u001b[1;32m    750\u001b[0m             \u001b[0mcheck_batch_axis\u001b[0m\u001b[0;34m=\u001b[0m\u001b[0;32mFalse\u001b[0m\u001b[0;34m,\u001b[0m  \u001b[0;31m# Don't enforce the batch size.\u001b[0m\u001b[0;34m\u001b[0m\u001b[0m\n\u001b[0;32m--> 751\u001b[0;31m             exception_prefix='input')\n\u001b[0m\u001b[1;32m    752\u001b[0m \u001b[0;34m\u001b[0m\u001b[0m\n\u001b[1;32m    753\u001b[0m         \u001b[0;32mif\u001b[0m \u001b[0my\u001b[0m \u001b[0;32mis\u001b[0m \u001b[0;32mnot\u001b[0m \u001b[0;32mNone\u001b[0m\u001b[0;34m:\u001b[0m\u001b[0;34m\u001b[0m\u001b[0m\n",
      "\u001b[0;32m~/anaconda3/envs/tensorflow_p36/lib/python3.6/site-packages/keras/engine/training_utils.py\u001b[0m in \u001b[0;36mstandardize_input_data\u001b[0;34m(data, names, shapes, check_batch_axis, exception_prefix)\u001b[0m\n\u001b[1;32m    136\u001b[0m                             \u001b[0;34m': expected '\u001b[0m \u001b[0;34m+\u001b[0m \u001b[0mnames\u001b[0m\u001b[0;34m[\u001b[0m\u001b[0mi\u001b[0m\u001b[0;34m]\u001b[0m \u001b[0;34m+\u001b[0m \u001b[0;34m' to have shape '\u001b[0m \u001b[0;34m+\u001b[0m\u001b[0;34m\u001b[0m\u001b[0m\n\u001b[1;32m    137\u001b[0m                             \u001b[0mstr\u001b[0m\u001b[0;34m(\u001b[0m\u001b[0mshape\u001b[0m\u001b[0;34m)\u001b[0m \u001b[0;34m+\u001b[0m \u001b[0;34m' but got array with shape '\u001b[0m \u001b[0;34m+\u001b[0m\u001b[0;34m\u001b[0m\u001b[0m\n\u001b[0;32m--> 138\u001b[0;31m                             str(data_shape))\n\u001b[0m\u001b[1;32m    139\u001b[0m     \u001b[0;32mreturn\u001b[0m \u001b[0mdata\u001b[0m\u001b[0;34m\u001b[0m\u001b[0m\n\u001b[1;32m    140\u001b[0m \u001b[0;34m\u001b[0m\u001b[0m\n",
      "\u001b[0;31mValueError\u001b[0m: Error when checking input: expected input_1 to have shape (4, 128, 128, 128) but got array with shape (1, 182, 218, 182)"
     ]
    }
   ],
   "source": [
    "predict(Unet_model, data)"
   ]
  }
 ],
 "metadata": {
  "kernelspec": {
   "display_name": "conda_tensorflow_p36",
   "language": "python",
   "name": "conda_tensorflow_p36"
  },
  "language_info": {
   "codemirror_mode": {
    "name": "ipython",
    "version": 3
   },
   "file_extension": ".py",
   "mimetype": "text/x-python",
   "name": "python",
   "nbconvert_exporter": "python",
   "pygments_lexer": "ipython3",
   "version": "3.6.5"
  }
 },
 "nbformat": 4,
 "nbformat_minor": 4
}
